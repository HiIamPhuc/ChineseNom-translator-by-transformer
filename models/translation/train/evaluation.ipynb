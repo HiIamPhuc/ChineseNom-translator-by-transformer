{
 "cells": [
  {
   "cell_type": "code",
   "execution_count": 1,
   "id": "f8aa5bb0",
   "metadata": {
    "execution": {
     "iopub.execute_input": "2025-07-22T13:14:09.472593Z",
     "iopub.status.busy": "2025-07-22T13:14:09.472381Z",
     "iopub.status.idle": "2025-07-22T13:14:20.794484Z",
     "shell.execute_reply": "2025-07-22T13:14:20.793720Z"
    },
    "executionInfo": {
     "elapsed": 28991,
     "status": "ok",
     "timestamp": 1753183251042,
     "user": {
      "displayName": "Linh Trần Hoàng",
      "userId": "05969840801290979020"
     },
     "user_tz": -420
    },
    "id": "9YF9Sqf6whPt",
    "outputId": "05c524b7-ead2-4b65-f0d6-8da83fbf7c94",
    "papermill": {
     "duration": 11.330899,
     "end_time": "2025-07-22T13:14:20.795925",
     "exception": false,
     "start_time": "2025-07-22T13:14:09.465026",
     "status": "completed"
    },
    "tags": []
   },
   "outputs": [
    {
     "name": "stdout",
     "output_type": "stream",
     "text": [
      "Requirement already satisfied: transformers in /usr/local/lib/python3.11/dist-packages (4.52.4)\r\n",
      "Requirement already satisfied: filelock in /usr/local/lib/python3.11/dist-packages (from transformers) (3.18.0)\r\n",
      "Requirement already satisfied: huggingface-hub<1.0,>=0.30.0 in /usr/local/lib/python3.11/dist-packages (from transformers) (0.33.1)\r\n",
      "Requirement already satisfied: numpy>=1.17 in /usr/local/lib/python3.11/dist-packages (from transformers) (1.26.4)\r\n",
      "Requirement already satisfied: packaging>=20.0 in /usr/local/lib/python3.11/dist-packages (from transformers) (25.0)\r\n",
      "Requirement already satisfied: pyyaml>=5.1 in /usr/local/lib/python3.11/dist-packages (from transformers) (6.0.2)\r\n",
      "Requirement already satisfied: regex!=2019.12.17 in /usr/local/lib/python3.11/dist-packages (from transformers) (2024.11.6)\r\n",
      "Requirement already satisfied: requests in /usr/local/lib/python3.11/dist-packages (from transformers) (2.32.4)\r\n",
      "Requirement already satisfied: tokenizers<0.22,>=0.21 in /usr/local/lib/python3.11/dist-packages (from transformers) (0.21.2)\r\n",
      "Requirement already satisfied: safetensors>=0.4.3 in /usr/local/lib/python3.11/dist-packages (from transformers) (0.5.3)\r\n",
      "Requirement already satisfied: tqdm>=4.27 in /usr/local/lib/python3.11/dist-packages (from transformers) (4.67.1)\r\n",
      "Requirement already satisfied: fsspec>=2023.5.0 in /usr/local/lib/python3.11/dist-packages (from huggingface-hub<1.0,>=0.30.0->transformers) (2025.5.1)\r\n",
      "Requirement already satisfied: typing-extensions>=3.7.4.3 in /usr/local/lib/python3.11/dist-packages (from huggingface-hub<1.0,>=0.30.0->transformers) (4.14.0)\r\n",
      "Requirement already satisfied: hf-xet<2.0.0,>=1.1.2 in /usr/local/lib/python3.11/dist-packages (from huggingface-hub<1.0,>=0.30.0->transformers) (1.1.5)\r\n",
      "Requirement already satisfied: mkl_fft in /usr/local/lib/python3.11/dist-packages (from numpy>=1.17->transformers) (1.3.8)\r\n",
      "Requirement already satisfied: mkl_random in /usr/local/lib/python3.11/dist-packages (from numpy>=1.17->transformers) (1.2.4)\r\n",
      "Requirement already satisfied: mkl_umath in /usr/local/lib/python3.11/dist-packages (from numpy>=1.17->transformers) (0.1.1)\r\n",
      "Requirement already satisfied: mkl in /usr/local/lib/python3.11/dist-packages (from numpy>=1.17->transformers) (2025.2.0)\r\n",
      "Requirement already satisfied: tbb4py in /usr/local/lib/python3.11/dist-packages (from numpy>=1.17->transformers) (2022.2.0)\r\n",
      "Requirement already satisfied: mkl-service in /usr/local/lib/python3.11/dist-packages (from numpy>=1.17->transformers) (2.4.1)\r\n",
      "Requirement already satisfied: charset_normalizer<4,>=2 in /usr/local/lib/python3.11/dist-packages (from requests->transformers) (3.4.2)\r\n",
      "Requirement already satisfied: idna<4,>=2.5 in /usr/local/lib/python3.11/dist-packages (from requests->transformers) (3.10)\r\n",
      "Requirement already satisfied: urllib3<3,>=1.21.1 in /usr/local/lib/python3.11/dist-packages (from requests->transformers) (2.5.0)\r\n",
      "Requirement already satisfied: certifi>=2017.4.17 in /usr/local/lib/python3.11/dist-packages (from requests->transformers) (2025.6.15)\r\n",
      "Requirement already satisfied: intel-openmp<2026,>=2024 in /usr/local/lib/python3.11/dist-packages (from mkl->numpy>=1.17->transformers) (2024.2.0)\r\n",
      "Requirement already satisfied: tbb==2022.* in /usr/local/lib/python3.11/dist-packages (from mkl->numpy>=1.17->transformers) (2022.2.0)\r\n",
      "Requirement already satisfied: tcmlib==1.* in /usr/local/lib/python3.11/dist-packages (from tbb==2022.*->mkl->numpy>=1.17->transformers) (1.4.0)\r\n",
      "Requirement already satisfied: intel-cmplr-lib-rt in /usr/local/lib/python3.11/dist-packages (from mkl_umath->numpy>=1.17->transformers) (2024.2.0)\r\n",
      "Requirement already satisfied: intel-cmplr-lib-ur==2024.2.0 in /usr/local/lib/python3.11/dist-packages (from intel-openmp<2026,>=2024->mkl->numpy>=1.17->transformers) (2024.2.0)\r\n",
      "Collecting evaluate\r\n",
      "  Downloading evaluate-0.4.5-py3-none-any.whl.metadata (9.5 kB)\r\n",
      "Requirement already satisfied: datasets>=2.0.0 in /usr/local/lib/python3.11/dist-packages (from evaluate) (3.6.0)\r\n",
      "Requirement already satisfied: numpy>=1.17 in /usr/local/lib/python3.11/dist-packages (from evaluate) (1.26.4)\r\n",
      "Requirement already satisfied: dill in /usr/local/lib/python3.11/dist-packages (from evaluate) (0.3.8)\r\n",
      "Requirement already satisfied: pandas in /usr/local/lib/python3.11/dist-packages (from evaluate) (2.2.3)\r\n",
      "Requirement already satisfied: requests>=2.19.0 in /usr/local/lib/python3.11/dist-packages (from evaluate) (2.32.4)\r\n",
      "Requirement already satisfied: tqdm>=4.62.1 in /usr/local/lib/python3.11/dist-packages (from evaluate) (4.67.1)\r\n",
      "Requirement already satisfied: xxhash in /usr/local/lib/python3.11/dist-packages (from evaluate) (3.5.0)\r\n",
      "Requirement already satisfied: multiprocess in /usr/local/lib/python3.11/dist-packages (from evaluate) (0.70.16)\r\n",
      "Requirement already satisfied: fsspec>=2021.05.0 in /usr/local/lib/python3.11/dist-packages (from fsspec[http]>=2021.05.0->evaluate) (2025.5.1)\r\n",
      "Requirement already satisfied: huggingface-hub>=0.7.0 in /usr/local/lib/python3.11/dist-packages (from evaluate) (0.33.1)\r\n",
      "Requirement already satisfied: packaging in /usr/local/lib/python3.11/dist-packages (from evaluate) (25.0)\r\n",
      "Requirement already satisfied: filelock in /usr/local/lib/python3.11/dist-packages (from datasets>=2.0.0->evaluate) (3.18.0)\r\n",
      "Requirement already satisfied: pyarrow>=15.0.0 in /usr/local/lib/python3.11/dist-packages (from datasets>=2.0.0->evaluate) (19.0.1)\r\n",
      "Collecting fsspec>=2021.05.0 (from fsspec[http]>=2021.05.0->evaluate)\r\n",
      "  Downloading fsspec-2025.3.0-py3-none-any.whl.metadata (11 kB)\r\n",
      "Requirement already satisfied: pyyaml>=5.1 in /usr/local/lib/python3.11/dist-packages (from datasets>=2.0.0->evaluate) (6.0.2)\r\n",
      "Requirement already satisfied: aiohttp!=4.0.0a0,!=4.0.0a1 in /usr/local/lib/python3.11/dist-packages (from fsspec[http]>=2021.05.0->evaluate) (3.12.13)\r\n",
      "Requirement already satisfied: typing-extensions>=3.7.4.3 in /usr/local/lib/python3.11/dist-packages (from huggingface-hub>=0.7.0->evaluate) (4.14.0)\r\n",
      "Requirement already satisfied: hf-xet<2.0.0,>=1.1.2 in /usr/local/lib/python3.11/dist-packages (from huggingface-hub>=0.7.0->evaluate) (1.1.5)\r\n",
      "Requirement already satisfied: mkl_fft in /usr/local/lib/python3.11/dist-packages (from numpy>=1.17->evaluate) (1.3.8)\r\n",
      "Requirement already satisfied: mkl_random in /usr/local/lib/python3.11/dist-packages (from numpy>=1.17->evaluate) (1.2.4)\r\n",
      "Requirement already satisfied: mkl_umath in /usr/local/lib/python3.11/dist-packages (from numpy>=1.17->evaluate) (0.1.1)\r\n",
      "Requirement already satisfied: mkl in /usr/local/lib/python3.11/dist-packages (from numpy>=1.17->evaluate) (2025.2.0)\r\n",
      "Requirement already satisfied: tbb4py in /usr/local/lib/python3.11/dist-packages (from numpy>=1.17->evaluate) (2022.2.0)\r\n",
      "Requirement already satisfied: mkl-service in /usr/local/lib/python3.11/dist-packages (from numpy>=1.17->evaluate) (2.4.1)\r\n",
      "Requirement already satisfied: charset_normalizer<4,>=2 in /usr/local/lib/python3.11/dist-packages (from requests>=2.19.0->evaluate) (3.4.2)\r\n",
      "Requirement already satisfied: idna<4,>=2.5 in /usr/local/lib/python3.11/dist-packages (from requests>=2.19.0->evaluate) (3.10)\r\n",
      "Requirement already satisfied: urllib3<3,>=1.21.1 in /usr/local/lib/python3.11/dist-packages (from requests>=2.19.0->evaluate) (2.5.0)\r\n",
      "Requirement already satisfied: certifi>=2017.4.17 in /usr/local/lib/python3.11/dist-packages (from requests>=2.19.0->evaluate) (2025.6.15)\r\n",
      "Requirement already satisfied: python-dateutil>=2.8.2 in /usr/local/lib/python3.11/dist-packages (from pandas->evaluate) (2.9.0.post0)\r\n",
      "Requirement already satisfied: pytz>=2020.1 in /usr/local/lib/python3.11/dist-packages (from pandas->evaluate) (2025.2)\r\n",
      "Requirement already satisfied: tzdata>=2022.7 in /usr/local/lib/python3.11/dist-packages (from pandas->evaluate) (2025.2)\r\n",
      "Requirement already satisfied: aiohappyeyeballs>=2.5.0 in /usr/local/lib/python3.11/dist-packages (from aiohttp!=4.0.0a0,!=4.0.0a1->fsspec[http]>=2021.05.0->evaluate) (2.6.1)\r\n",
      "Requirement already satisfied: aiosignal>=1.1.2 in /usr/local/lib/python3.11/dist-packages (from aiohttp!=4.0.0a0,!=4.0.0a1->fsspec[http]>=2021.05.0->evaluate) (1.3.2)\r\n",
      "Requirement already satisfied: attrs>=17.3.0 in /usr/local/lib/python3.11/dist-packages (from aiohttp!=4.0.0a0,!=4.0.0a1->fsspec[http]>=2021.05.0->evaluate) (25.3.0)\r\n",
      "Requirement already satisfied: frozenlist>=1.1.1 in /usr/local/lib/python3.11/dist-packages (from aiohttp!=4.0.0a0,!=4.0.0a1->fsspec[http]>=2021.05.0->evaluate) (1.7.0)\r\n",
      "Requirement already satisfied: multidict<7.0,>=4.5 in /usr/local/lib/python3.11/dist-packages (from aiohttp!=4.0.0a0,!=4.0.0a1->fsspec[http]>=2021.05.0->evaluate) (6.6.3)\r\n",
      "Requirement already satisfied: propcache>=0.2.0 in /usr/local/lib/python3.11/dist-packages (from aiohttp!=4.0.0a0,!=4.0.0a1->fsspec[http]>=2021.05.0->evaluate) (0.3.2)\r\n",
      "Requirement already satisfied: yarl<2.0,>=1.17.0 in /usr/local/lib/python3.11/dist-packages (from aiohttp!=4.0.0a0,!=4.0.0a1->fsspec[http]>=2021.05.0->evaluate) (1.20.1)\r\n",
      "Requirement already satisfied: six>=1.5 in /usr/local/lib/python3.11/dist-packages (from python-dateutil>=2.8.2->pandas->evaluate) (1.17.0)\r\n",
      "Requirement already satisfied: intel-openmp<2026,>=2024 in /usr/local/lib/python3.11/dist-packages (from mkl->numpy>=1.17->evaluate) (2024.2.0)\r\n",
      "Requirement already satisfied: tbb==2022.* in /usr/local/lib/python3.11/dist-packages (from mkl->numpy>=1.17->evaluate) (2022.2.0)\r\n",
      "Requirement already satisfied: tcmlib==1.* in /usr/local/lib/python3.11/dist-packages (from tbb==2022.*->mkl->numpy>=1.17->evaluate) (1.4.0)\r\n",
      "Requirement already satisfied: intel-cmplr-lib-rt in /usr/local/lib/python3.11/dist-packages (from mkl_umath->numpy>=1.17->evaluate) (2024.2.0)\r\n",
      "Requirement already satisfied: intel-cmplr-lib-ur==2024.2.0 in /usr/local/lib/python3.11/dist-packages (from intel-openmp<2026,>=2024->mkl->numpy>=1.17->evaluate) (2024.2.0)\r\n",
      "Downloading evaluate-0.4.5-py3-none-any.whl (84 kB)\r\n",
      "\u001b[2K   \u001b[90m━━━━━━━━━━━━━━━━━━━━━━━━━━━━━━━━━━━━━━━━\u001b[0m \u001b[32m84.1/84.1 kB\u001b[0m \u001b[31m2.8 MB/s\u001b[0m eta \u001b[36m0:00:00\u001b[0m\r\n",
      "\u001b[?25hDownloading fsspec-2025.3.0-py3-none-any.whl (193 kB)\r\n",
      "\u001b[2K   \u001b[90m━━━━━━━━━━━━━━━━━━━━━━━━━━━━━━━━━━━━━━━━\u001b[0m \u001b[32m193.6/193.6 kB\u001b[0m \u001b[31m9.8 MB/s\u001b[0m eta \u001b[36m0:00:00\u001b[0m\r\n",
      "\u001b[?25hInstalling collected packages: fsspec, evaluate\r\n",
      "  Attempting uninstall: fsspec\r\n",
      "    Found existing installation: fsspec 2025.5.1\r\n",
      "    Uninstalling fsspec-2025.5.1:\r\n",
      "      Successfully uninstalled fsspec-2025.5.1\r\n",
      "\u001b[31mERROR: pip's dependency resolver does not currently take into account all the packages that are installed. This behaviour is the source of the following dependency conflicts.\r\n",
      "bigframes 2.8.0 requires google-cloud-bigquery-storage<3.0.0,>=2.30.0, which is not installed.\r\n",
      "cesium 0.12.4 requires numpy<3.0,>=2.0, but you have numpy 1.26.4 which is incompatible.\r\n",
      "torch 2.6.0+cu124 requires nvidia-cublas-cu12==12.4.5.8; platform_system == \"Linux\" and platform_machine == \"x86_64\", but you have nvidia-cublas-cu12 12.5.3.2 which is incompatible.\r\n",
      "torch 2.6.0+cu124 requires nvidia-cuda-cupti-cu12==12.4.127; platform_system == \"Linux\" and platform_machine == \"x86_64\", but you have nvidia-cuda-cupti-cu12 12.5.82 which is incompatible.\r\n",
      "torch 2.6.0+cu124 requires nvidia-cuda-nvrtc-cu12==12.4.127; platform_system == \"Linux\" and platform_machine == \"x86_64\", but you have nvidia-cuda-nvrtc-cu12 12.5.82 which is incompatible.\r\n",
      "torch 2.6.0+cu124 requires nvidia-cuda-runtime-cu12==12.4.127; platform_system == \"Linux\" and platform_machine == \"x86_64\", but you have nvidia-cuda-runtime-cu12 12.5.82 which is incompatible.\r\n",
      "torch 2.6.0+cu124 requires nvidia-cudnn-cu12==9.1.0.70; platform_system == \"Linux\" and platform_machine == \"x86_64\", but you have nvidia-cudnn-cu12 9.3.0.75 which is incompatible.\r\n",
      "torch 2.6.0+cu124 requires nvidia-cufft-cu12==11.2.1.3; platform_system == \"Linux\" and platform_machine == \"x86_64\", but you have nvidia-cufft-cu12 11.2.3.61 which is incompatible.\r\n",
      "torch 2.6.0+cu124 requires nvidia-curand-cu12==10.3.5.147; platform_system == \"Linux\" and platform_machine == \"x86_64\", but you have nvidia-curand-cu12 10.3.6.82 which is incompatible.\r\n",
      "torch 2.6.0+cu124 requires nvidia-cusolver-cu12==11.6.1.9; platform_system == \"Linux\" and platform_machine == \"x86_64\", but you have nvidia-cusolver-cu12 11.6.3.83 which is incompatible.\r\n",
      "torch 2.6.0+cu124 requires nvidia-cusparse-cu12==12.3.1.170; platform_system == \"Linux\" and platform_machine == \"x86_64\", but you have nvidia-cusparse-cu12 12.5.1.3 which is incompatible.\r\n",
      "torch 2.6.0+cu124 requires nvidia-nvjitlink-cu12==12.4.127; platform_system == \"Linux\" and platform_machine == \"x86_64\", but you have nvidia-nvjitlink-cu12 12.5.82 which is incompatible.\r\n",
      "gcsfs 2025.3.2 requires fsspec==2025.3.2, but you have fsspec 2025.3.0 which is incompatible.\r\n",
      "bigframes 2.8.0 requires google-cloud-bigquery[bqstorage,pandas]>=3.31.0, but you have google-cloud-bigquery 3.25.0 which is incompatible.\r\n",
      "bigframes 2.8.0 requires rich<14,>=12.4.4, but you have rich 14.0.0 which is incompatible.\u001b[0m\u001b[31m\r\n",
      "\u001b[0mSuccessfully installed evaluate-0.4.5 fsspec-2025.3.0\r\n",
      "Collecting sacrebleu\r\n",
      "  Downloading sacrebleu-2.5.1-py3-none-any.whl.metadata (51 kB)\r\n",
      "\u001b[2K     \u001b[90m━━━━━━━━━━━━━━━━━━━━━━━━━━━━━━━━━━━━━━━━\u001b[0m \u001b[32m51.8/51.8 kB\u001b[0m \u001b[31m2.4 MB/s\u001b[0m eta \u001b[36m0:00:00\u001b[0m\r\n",
      "\u001b[?25hCollecting portalocker (from sacrebleu)\r\n",
      "  Downloading portalocker-3.2.0-py3-none-any.whl.metadata (8.7 kB)\r\n",
      "Requirement already satisfied: regex in /usr/local/lib/python3.11/dist-packages (from sacrebleu) (2024.11.6)\r\n",
      "Requirement already satisfied: tabulate>=0.8.9 in /usr/local/lib/python3.11/dist-packages (from sacrebleu) (0.9.0)\r\n",
      "Requirement already satisfied: numpy>=1.17 in /usr/local/lib/python3.11/dist-packages (from sacrebleu) (1.26.4)\r\n",
      "Requirement already satisfied: colorama in /usr/local/lib/python3.11/dist-packages (from sacrebleu) (0.4.6)\r\n",
      "Requirement already satisfied: lxml in /usr/local/lib/python3.11/dist-packages (from sacrebleu) (5.4.0)\r\n",
      "Requirement already satisfied: mkl_fft in /usr/local/lib/python3.11/dist-packages (from numpy>=1.17->sacrebleu) (1.3.8)\r\n",
      "Requirement already satisfied: mkl_random in /usr/local/lib/python3.11/dist-packages (from numpy>=1.17->sacrebleu) (1.2.4)\r\n",
      "Requirement already satisfied: mkl_umath in /usr/local/lib/python3.11/dist-packages (from numpy>=1.17->sacrebleu) (0.1.1)\r\n",
      "Requirement already satisfied: mkl in /usr/local/lib/python3.11/dist-packages (from numpy>=1.17->sacrebleu) (2025.2.0)\r\n",
      "Requirement already satisfied: tbb4py in /usr/local/lib/python3.11/dist-packages (from numpy>=1.17->sacrebleu) (2022.2.0)\r\n",
      "Requirement already satisfied: mkl-service in /usr/local/lib/python3.11/dist-packages (from numpy>=1.17->sacrebleu) (2.4.1)\r\n",
      "Requirement already satisfied: intel-openmp<2026,>=2024 in /usr/local/lib/python3.11/dist-packages (from mkl->numpy>=1.17->sacrebleu) (2024.2.0)\r\n",
      "Requirement already satisfied: tbb==2022.* in /usr/local/lib/python3.11/dist-packages (from mkl->numpy>=1.17->sacrebleu) (2022.2.0)\r\n",
      "Requirement already satisfied: tcmlib==1.* in /usr/local/lib/python3.11/dist-packages (from tbb==2022.*->mkl->numpy>=1.17->sacrebleu) (1.4.0)\r\n",
      "Requirement already satisfied: intel-cmplr-lib-rt in /usr/local/lib/python3.11/dist-packages (from mkl_umath->numpy>=1.17->sacrebleu) (2024.2.0)\r\n",
      "Requirement already satisfied: intel-cmplr-lib-ur==2024.2.0 in /usr/local/lib/python3.11/dist-packages (from intel-openmp<2026,>=2024->mkl->numpy>=1.17->sacrebleu) (2024.2.0)\r\n",
      "Downloading sacrebleu-2.5.1-py3-none-any.whl (104 kB)\r\n",
      "\u001b[2K   \u001b[90m━━━━━━━━━━━━━━━━━━━━━━━━━━━━━━━━━━━━━━━━\u001b[0m \u001b[32m104.1/104.1 kB\u001b[0m \u001b[31m5.7 MB/s\u001b[0m eta \u001b[36m0:00:00\u001b[0m\r\n",
      "\u001b[?25hDownloading portalocker-3.2.0-py3-none-any.whl (22 kB)\r\n",
      "Installing collected packages: portalocker, sacrebleu\r\n",
      "Successfully installed portalocker-3.2.0 sacrebleu-2.5.1\r\n"
     ]
    }
   ],
   "source": [
    "!pip install transformers\n",
    "!pip install evaluate\n",
    "!pip install sacrebleu"
   ]
  },
  {
   "cell_type": "code",
   "execution_count": 2,
   "id": "3037db03",
   "metadata": {
    "execution": {
     "iopub.execute_input": "2025-07-22T13:14:20.811700Z",
     "iopub.status.busy": "2025-07-22T13:14:20.810989Z",
     "iopub.status.idle": "2025-07-22T13:14:49.044232Z",
     "shell.execute_reply": "2025-07-22T13:14:49.043614Z"
    },
    "executionInfo": {
     "elapsed": 28830,
     "status": "ok",
     "timestamp": 1753183279875,
     "user": {
      "displayName": "Linh Trần Hoàng",
      "userId": "05969840801290979020"
     },
     "user_tz": -420
    },
    "id": "70213122",
    "papermill": {
     "duration": 28.242297,
     "end_time": "2025-07-22T13:14:49.045654",
     "exception": false,
     "start_time": "2025-07-22T13:14:20.803357",
     "status": "completed"
    },
    "tags": []
   },
   "outputs": [
    {
     "name": "stderr",
     "output_type": "stream",
     "text": [
      "2025-07-22 13:14:37.598084: E external/local_xla/xla/stream_executor/cuda/cuda_fft.cc:477] Unable to register cuFFT factory: Attempting to register factory for plugin cuFFT when one has already been registered\n",
      "WARNING: All log messages before absl::InitializeLog() is called are written to STDERR\n",
      "E0000 00:00:1753190077.785378      19 cuda_dnn.cc:8310] Unable to register cuDNN factory: Attempting to register factory for plugin cuDNN when one has already been registered\n",
      "E0000 00:00:1753190077.838152      19 cuda_blas.cc:1418] Unable to register cuBLAS factory: Attempting to register factory for plugin cuBLAS when one has already been registered\n"
     ]
    }
   ],
   "source": [
    "import pandas as pd\n",
    "import numpy as np\n",
    "import matplotlib.pyplot as plt\n",
    "import seaborn as sns\n",
    "import matplotlib.pyplot as plt\n",
    "from collections import Counter\n",
    "from matplotlib.font_manager import FontProperties\n",
    "from transformers import MT5ForConditionalGeneration, MT5Tokenizer\n",
    "import torch\n",
    "import evaluate"
   ]
  },
  {
   "cell_type": "code",
   "execution_count": 3,
   "id": "c50dad6b",
   "metadata": {
    "execution": {
     "iopub.execute_input": "2025-07-22T13:14:49.060360Z",
     "iopub.status.busy": "2025-07-22T13:14:49.059872Z",
     "iopub.status.idle": "2025-07-22T13:14:49.063998Z",
     "shell.execute_reply": "2025-07-22T13:14:49.063295Z"
    },
    "executionInfo": {
     "elapsed": 26,
     "status": "ok",
     "timestamp": 1753183279877,
     "user": {
      "displayName": "Linh Trần Hoàng",
      "userId": "05969840801290979020"
     },
     "user_tz": -420
    },
    "id": "8ac51f0b",
    "papermill": {
     "duration": 0.012472,
     "end_time": "2025-07-22T13:14:49.065098",
     "exception": false,
     "start_time": "2025-07-22T13:14:49.052626",
     "status": "completed"
    },
    "tags": []
   },
   "outputs": [],
   "source": [
    "font_cn = FontProperties(fname=\"/kaggle/input/font-nomnatong/NomNaTong-Regular.ttf\")\n",
    "\n",
    "paths = {\n",
    "    'train': '/kaggle/input/translate-nom-vietnam/train.csv',\n",
    "    'val':   '/kaggle/input/translate-nom-vietnam/val.csv',\n",
    "    'test':  '/kaggle/input/translate-nom-vietnam/test.csv'\n",
    "}\n",
    "\n",
    "model_dir = \"/kaggle/input/translate_nom_vietnamese/transformers/default/1\""
   ]
  },
  {
   "cell_type": "markdown",
   "id": "05d477fe",
   "metadata": {
    "id": "15dbb83c",
    "papermill": {
     "duration": 0.006404,
     "end_time": "2025-07-22T13:14:49.078725",
     "exception": false,
     "start_time": "2025-07-22T13:14:49.072321",
     "status": "completed"
    },
    "tags": []
   },
   "source": [
    "# EDA"
   ]
  },
  {
   "cell_type": "code",
   "execution_count": 4,
   "id": "5a9412d4",
   "metadata": {
    "execution": {
     "iopub.execute_input": "2025-07-22T13:14:49.092513Z",
     "iopub.status.busy": "2025-07-22T13:14:49.092305Z",
     "iopub.status.idle": "2025-07-22T13:14:49.095215Z",
     "shell.execute_reply": "2025-07-22T13:14:49.094711Z"
    },
    "executionInfo": {
     "elapsed": 11,
     "status": "ok",
     "timestamp": 1753183279879,
     "user": {
      "displayName": "Linh Trần Hoàng",
      "userId": "05969840801290979020"
     },
     "user_tz": -420
    },
    "id": "27ee84db",
    "papermill": {
     "duration": 0.010954,
     "end_time": "2025-07-22T13:14:49.096113",
     "exception": false,
     "start_time": "2025-07-22T13:14:49.085159",
     "status": "completed"
    },
    "tags": []
   },
   "outputs": [],
   "source": [
    "prefix = 'translate Vietnamese_nom to Vietnamese: '"
   ]
  },
  {
   "cell_type": "code",
   "execution_count": 5,
   "id": "224d9593",
   "metadata": {
    "execution": {
     "iopub.execute_input": "2025-07-22T13:14:49.110119Z",
     "iopub.status.busy": "2025-07-22T13:14:49.109893Z",
     "iopub.status.idle": "2025-07-22T13:14:49.601371Z",
     "shell.execute_reply": "2025-07-22T13:14:49.600576Z"
    },
    "executionInfo": {
     "elapsed": 1736,
     "status": "ok",
     "timestamp": 1753183281609,
     "user": {
      "displayName": "Linh Trần Hoàng",
      "userId": "05969840801290979020"
     },
     "user_tz": -420
    },
    "id": "85b6d5d2",
    "papermill": {
     "duration": 0.500139,
     "end_time": "2025-07-22T13:14:49.602744",
     "exception": false,
     "start_time": "2025-07-22T13:14:49.102605",
     "status": "completed"
    },
    "tags": []
   },
   "outputs": [],
   "source": [
    "datasets = {name: pd.read_csv(path) for name, path in paths.items()}\n",
    "for name, path in paths.items():\n",
    "    datasets[name]['source'] = datasets[name]['source'].replace(prefix, '', regex=True)"
   ]
  },
  {
   "cell_type": "markdown",
   "id": "9e932210",
   "metadata": {
    "id": "35894b99",
    "papermill": {
     "duration": 0.006391,
     "end_time": "2025-07-22T13:14:49.616153",
     "exception": false,
     "start_time": "2025-07-22T13:14:49.609762",
     "status": "completed"
    },
    "tags": []
   },
   "source": [
    "## Tập dữ liệu"
   ]
  },
  {
   "cell_type": "code",
   "execution_count": 6,
   "id": "e912cd47",
   "metadata": {
    "execution": {
     "iopub.execute_input": "2025-07-22T13:14:49.630069Z",
     "iopub.status.busy": "2025-07-22T13:14:49.629496Z",
     "iopub.status.idle": "2025-07-22T13:14:49.796586Z",
     "shell.execute_reply": "2025-07-22T13:14:49.795977Z"
    },
    "executionInfo": {
     "elapsed": 546,
     "status": "ok",
     "timestamp": 1753183282157,
     "user": {
      "displayName": "Linh Trần Hoàng",
      "userId": "05969840801290979020"
     },
     "user_tz": -420
    },
    "id": "36ee09a7",
    "outputId": "996b8dfe-a847-40a5-ab76-e3e636c048e0",
    "papermill": {
     "duration": 0.175245,
     "end_time": "2025-07-22T13:14:49.797700",
     "exception": false,
     "start_time": "2025-07-22T13:14:49.622455",
     "status": "completed"
    },
    "tags": []
   },
   "outputs": [
    {
     "data": {
      "image/png": "[encoded data removed]",
      "text/plain": [
       "<Figure size 500x500 with 1 Axes>"
      ]
     },
     "metadata": {},
     "output_type": "display_data"
    }
   ],
   "source": [
    "sizes = {split: len(df) for split, df in datasets.items()}\n",
    "\n",
    "plt.figure(figsize=(5,5))\n",
    "plt.pie(\n",
    "    sizes.values(),\n",
    "    labels=sizes.keys(),\n",
    "    autopct='%1.1f%%',\n",
    "    colors=['skyblue', 'orange', 'lightgreen'],\n",
    "    startangle=80\n",
    ")\n",
    "plt.title('Tỉ lệ phân chia tập dữ liệu')\n",
    "plt.axis('equal')\n",
    "plt.show()\n"
   ]
  },
  {
   "cell_type": "code",
   "execution_count": 7,
   "id": "ef62eeda",
   "metadata": {
    "execution": {
     "iopub.execute_input": "2025-07-22T13:14:49.812505Z",
     "iopub.status.busy": "2025-07-22T13:14:49.812287Z",
     "iopub.status.idle": "2025-07-22T13:14:49.826317Z",
     "shell.execute_reply": "2025-07-22T13:14:49.825703Z"
    },
    "executionInfo": {
     "elapsed": 36,
     "status": "ok",
     "timestamp": 1753183282195,
     "user": {
      "displayName": "Linh Trần Hoàng",
      "userId": "05969840801290979020"
     },
     "user_tz": -420
    },
    "id": "cb8d0f83",
    "outputId": "2b47307e-6f35-4e55-fe14-55f47374a57b",
    "papermill": {
     "duration": 0.022481,
     "end_time": "2025-07-22T13:14:49.827414",
     "exception": false,
     "start_time": "2025-07-22T13:14:49.804933",
     "status": "completed"
    },
    "tags": []
   },
   "outputs": [
    {
     "data": {
      "text/html": [
       "<div>\n",
       "<style scoped>\n",
       "    .dataframe tbody tr th:only-of-type {\n",
       "        vertical-align: middle;\n",
       "    }\n",
       "\n",
       "    .dataframe tbody tr th {\n",
       "        vertical-align: top;\n",
       "    }\n",
       "\n",
       "    .dataframe thead th {\n",
       "        text-align: right;\n",
       "    }\n",
       "</style>\n",
       "<table border=\"1\" class=\"dataframe\">\n",
       "  <thead>\n",
       "    <tr style=\"text-align: right;\">\n",
       "      <th></th>\n",
       "      <th>source</th>\n",
       "      <th>target</th>\n",
       "    </tr>\n",
       "  </thead>\n",
       "  <tbody>\n",
       "    <tr>\n",
       "      <th>0</th>\n",
       "      <td>帝御天慶殿執</td>\n",
       "      <td>đế ngự thiên khánh điện chấp</td>\n",
       "    </tr>\n",
       "    <tr>\n",
       "      <th>1</th>\n",
       "      <td>車吹隔𠇍吝𨗊拱蹺</td>\n",
       "      <td>xa xôi cách mấy lần đò cũng theo</td>\n",
       "    </tr>\n",
       "    <tr>\n",
       "      <th>2</th>\n",
       "      <td>身𠦳鐄底名𦟐紅</td>\n",
       "      <td>thân ngàn vàng để ô danh má hồng</td>\n",
       "    </tr>\n",
       "    <tr>\n",
       "      <th>3</th>\n",
       "      <td>車祿金吾衞上将軍大置字車渴車盤車點並爲玉鈐衞大将軍明字並四國姓</td>\n",
       "      <td>xa lộc kim ngô vệ thượng tướng quân đại trí tự...</td>\n",
       "    </tr>\n",
       "    <tr>\n",
       "      <th>4</th>\n",
       "      <td>些群朗蕩𬈋之女象固𡗶排達為</td>\n",
       "      <td>ta còn lãng đãng làm chi nữa. tuồng có trời bà...</td>\n",
       "    </tr>\n",
       "  </tbody>\n",
       "</table>\n",
       "</div>"
      ],
      "text/plain": [
       "                            source  \\\n",
       "0                           帝御天慶殿執   \n",
       "1                         車吹隔𠇍吝𨗊拱蹺   \n",
       "2                          身𠦳鐄底名𦟐紅   \n",
       "3  車祿金吾衞上将軍大置字車渴車盤車點並爲玉鈐衞大将軍明字並四國姓   \n",
       "4                    些群朗蕩𬈋之女象固𡗶排達為   \n",
       "\n",
       "                                              target  \n",
       "0                       đế ngự thiên khánh điện chấp  \n",
       "1                   xa xôi cách mấy lần đò cũng theo  \n",
       "2                   thân ngàn vàng để ô danh má hồng  \n",
       "3  xa lộc kim ngô vệ thượng tướng quân đại trí tự...  \n",
       "4  ta còn lãng đãng làm chi nữa. tuồng có trời bà...  "
      ]
     },
     "execution_count": 7,
     "metadata": {},
     "output_type": "execute_result"
    }
   ],
   "source": [
    "datasets['train'].head()"
   ]
  },
  {
   "cell_type": "code",
   "execution_count": 8,
   "id": "868b0be7",
   "metadata": {
    "execution": {
     "iopub.execute_input": "2025-07-22T13:14:49.844082Z",
     "iopub.status.busy": "2025-07-22T13:14:49.843549Z",
     "iopub.status.idle": "2025-07-22T13:14:49.850239Z",
     "shell.execute_reply": "2025-07-22T13:14:49.849668Z"
    },
    "executionInfo": {
     "elapsed": 101,
     "status": "ok",
     "timestamp": 1753183282297,
     "user": {
      "displayName": "Linh Trần Hoàng",
      "userId": "05969840801290979020"
     },
     "user_tz": -420
    },
    "id": "934461d6",
    "outputId": "b8910437-049e-4dd8-fad3-fb8c0fec637d",
    "papermill": {
     "duration": 0.015765,
     "end_time": "2025-07-22T13:14:49.851181",
     "exception": false,
     "start_time": "2025-07-22T13:14:49.835416",
     "status": "completed"
    },
    "tags": []
   },
   "outputs": [
    {
     "data": {
      "text/html": [
       "<div>\n",
       "<style scoped>\n",
       "    .dataframe tbody tr th:only-of-type {\n",
       "        vertical-align: middle;\n",
       "    }\n",
       "\n",
       "    .dataframe tbody tr th {\n",
       "        vertical-align: top;\n",
       "    }\n",
       "\n",
       "    .dataframe thead th {\n",
       "        text-align: right;\n",
       "    }\n",
       "</style>\n",
       "<table border=\"1\" class=\"dataframe\">\n",
       "  <thead>\n",
       "    <tr style=\"text-align: right;\">\n",
       "      <th></th>\n",
       "      <th>source</th>\n",
       "      <th>target</th>\n",
       "    </tr>\n",
       "  </thead>\n",
       "  <tbody>\n",
       "    <tr>\n",
       "      <th>47390</th>\n",
       "      <td>𥙩之𢷀䋦孕𦀚衛𡢐</td>\n",
       "      <td>lấy chi rủ mối dựng giềng về sau</td>\n",
       "    </tr>\n",
       "    <tr>\n",
       "      <th>47391</th>\n",
       "      <td>𩶪鱩鯱鯁𩹹鮋𫃚絁𬗢𦀎論都𦋦𠓨</td>\n",
       "      <td>cháy trôi hố ngạnh giếc rô. vóc the là lượt rộ...</td>\n",
       "    </tr>\n",
       "    <tr>\n",
       "      <th>47392</th>\n",
       "      <td>𩚵共粥𠲝奴隊𩛷油白</td>\n",
       "      <td>cơm cùng cháo đói no đòi bữa</td>\n",
       "    </tr>\n",
       "    <tr>\n",
       "      <th>47393</th>\n",
       "      <td>𠰺浪拠法加刑</td>\n",
       "      <td>dạy rằng cứ phép gia hình</td>\n",
       "    </tr>\n",
       "    <tr>\n",
       "      <th>47394</th>\n",
       "      <td>沛干颯所打共時沈托</td>\n",
       "      <td>phải cơn táp thửa đánh, cùng thời đắm thác</td>\n",
       "    </tr>\n",
       "  </tbody>\n",
       "</table>\n",
       "</div>"
      ],
      "text/plain": [
       "               source                                             target\n",
       "47390        𥙩之𢷀䋦孕𦀚衛𡢐                   lấy chi rủ mối dựng giềng về sau\n",
       "47391  𩶪鱩鯱鯁𩹹鮋𫃚絁𬗢𦀎論都𦋦𠓨  cháy trôi hố ngạnh giếc rô. vóc the là lượt rộ...\n",
       "47392       𩚵共粥𠲝奴隊𩛷油白                       cơm cùng cháo đói no đòi bữa\n",
       "47393          𠰺浪拠法加刑                          dạy rằng cứ phép gia hình\n",
       "47394       沛干颯所打共時沈托         phải cơn táp thửa đánh, cùng thời đắm thác"
      ]
     },
     "execution_count": 8,
     "metadata": {},
     "output_type": "execute_result"
    }
   ],
   "source": [
    "datasets['train'].tail()"
   ]
  },
  {
   "cell_type": "markdown",
   "id": "67546c97",
   "metadata": {
    "id": "ea209209",
    "papermill": {
     "duration": 0.0071,
     "end_time": "2025-07-22T13:14:49.865569",
     "exception": false,
     "start_time": "2025-07-22T13:14:49.858469",
     "status": "completed"
    },
    "tags": []
   },
   "source": [
    "### Những từ phổ biến nhất"
   ]
  },
  {
   "cell_type": "code",
   "execution_count": 9,
   "id": "9aa8d787",
   "metadata": {
    "execution": {
     "iopub.execute_input": "2025-07-22T13:14:49.880670Z",
     "iopub.status.busy": "2025-07-22T13:14:49.880493Z",
     "iopub.status.idle": "2025-07-22T13:14:49.884872Z",
     "shell.execute_reply": "2025-07-22T13:14:49.884345Z"
    },
    "executionInfo": {
     "elapsed": 17,
     "status": "ok",
     "timestamp": 1753183282317,
     "user": {
      "displayName": "Linh Trần Hoàng",
      "userId": "05969840801290979020"
     },
     "user_tz": -420
    },
    "id": "fd082354",
    "papermill": {
     "duration": 0.013157,
     "end_time": "2025-07-22T13:14:49.885870",
     "exception": false,
     "start_time": "2025-07-22T13:14:49.872713",
     "status": "completed"
    },
    "tags": []
   },
   "outputs": [],
   "source": [
    "def draw_diagram(ax, word_freq, title='Top từ phổ biến', x_font=None):\n",
    "    words, freqs = zip(*word_freq)\n",
    "    ax.bar(words, freqs, color='coral', edgecolor='black')\n",
    "    ax.set_title(title)\n",
    "    ax.set_xlabel('Từ')\n",
    "    ax.set_ylabel('Tần suất')\n",
    "    if x_font:\n",
    "        ax.set_xticklabels(words, rotation=45, fontproperties=x_font)\n",
    "    else:\n",
    "        ax.set_xticklabels(words, rotation=45)\n",
    "    ax.grid(axis='y', linestyle='--', alpha=0.5)\n"
   ]
  },
  {
   "cell_type": "code",
   "execution_count": 10,
   "id": "1e460bfa",
   "metadata": {
    "execution": {
     "iopub.execute_input": "2025-07-22T13:14:49.901421Z",
     "iopub.status.busy": "2025-07-22T13:14:49.901246Z",
     "iopub.status.idle": "2025-07-22T13:14:51.991952Z",
     "shell.execute_reply": "2025-07-22T13:14:51.991118Z"
    },
    "executionInfo": {
     "elapsed": 5745,
     "status": "ok",
     "timestamp": 1753183288067,
     "user": {
      "displayName": "Linh Trần Hoàng",
      "userId": "05969840801290979020"
     },
     "user_tz": -420
    },
    "id": "94a3ffb0",
    "outputId": "3ab7786f-42b0-4162-ae96-c5a5f994cd82",
    "papermill": {
     "duration": 2.100256,
     "end_time": "2025-07-22T13:14:51.993725",
     "exception": false,
     "start_time": "2025-07-22T13:14:49.893469",
     "status": "completed"
    },
    "tags": []
   },
   "outputs": [
    {
     "name": "stderr",
     "output_type": "stream",
     "text": [
      "/tmp/ipykernel_19/1152468442.py:10: UserWarning: FixedFormatter should only be used together with FixedLocator\n",
      "  ax.set_xticklabels(words, rotation=45)\n",
      "/tmp/ipykernel_19/1152468442.py:8: UserWarning: FixedFormatter should only be used together with FixedLocator\n",
      "  ax.set_xticklabels(words, rotation=45, fontproperties=x_font)\n"
     ]
    },
    {
     "data": {
      "image/png": "[encoded data removed]",
      "text/plain": [
       "<Figure size 1800x1000 with 6 Axes>"
      ]
     },
     "metadata": {},
     "output_type": "display_data"
    }
   ],
   "source": [
    "fig, axes = plt.subplots(2, 3, figsize=(18, 10), sharey=True)\n",
    "\n",
    "for i, split in enumerate(['train', 'val', 'test']):\n",
    "\n",
    "    st = ' '.join(datasets['train']['target'].to_list()).split()\n",
    "    draw_diagram(\n",
    "        ax=axes[0, i],\n",
    "        word_freq=Counter(st).most_common(10),\n",
    "        title='Top 10 từ xuất hiện phổ biến trong target ({})'.format(split)\n",
    "    )\n",
    "\n",
    "    st = ''.join(datasets['train']['source'].to_list())\n",
    "    draw_diagram(\n",
    "        ax=axes[1, i],\n",
    "        word_freq=Counter(st).most_common(10),\n",
    "        title='Top 10 từ xuất hiện phổ biến trong source ({})'.format(split),\n",
    "        x_font=font_cn\n",
    "    )\n",
    "\n",
    "plt.tight_layout()\n",
    "plt.show()"
   ]
  },
  {
   "cell_type": "markdown",
   "id": "4103cc5e",
   "metadata": {
    "id": "422b232a",
    "papermill": {
     "duration": 0.009173,
     "end_time": "2025-07-22T13:14:52.012971",
     "exception": false,
     "start_time": "2025-07-22T13:14:52.003798",
     "status": "completed"
    },
    "tags": []
   },
   "source": [
    "## Biểu đồ tương quan"
   ]
  },
  {
   "cell_type": "code",
   "execution_count": 11,
   "id": "af877986",
   "metadata": {
    "execution": {
     "iopub.execute_input": "2025-07-22T13:14:52.032254Z",
     "iopub.status.busy": "2025-07-22T13:14:52.032015Z",
     "iopub.status.idle": "2025-07-22T13:14:53.267985Z",
     "shell.execute_reply": "2025-07-22T13:14:53.267281Z"
    },
    "executionInfo": {
     "elapsed": 2651,
     "status": "ok",
     "timestamp": 1753183290726,
     "user": {
      "displayName": "Linh Trần Hoàng",
      "userId": "05969840801290979020"
     },
     "user_tz": -420
    },
    "id": "a7a87520",
    "outputId": "8d3f4b8f-279c-470e-dfe9-11346d3b30c0",
    "papermill": {
     "duration": 1.247004,
     "end_time": "2025-07-22T13:14:53.269245",
     "exception": false,
     "start_time": "2025-07-22T13:14:52.022241",
     "status": "completed"
    },
    "tags": []
   },
   "outputs": [
    {
     "data": {
      "image/png": "[encoded data removed]",
      "text/plain": [
       "<Figure size 1800x500 with 6 Axes>"
      ]
     },
     "metadata": {},
     "output_type": "display_data"
    }
   ],
   "source": [
    "fig, axes = plt.subplots(\n",
    "    nrows=1, ncols=3,\n",
    "    figsize=(18, 5),\n",
    "    constrained_layout=True\n",
    ")\n",
    "\n",
    "for i, split in enumerate(['train', 'val', 'test']):\n",
    "    df = datasets[split]\n",
    "\n",
    "    df = pd.DataFrame({\n",
    "        'len_source': df['source'].dropna().str.len(),\n",
    "        'len_target': df['target'].dropna().str.split().apply(len)\n",
    "    })\n",
    "\n",
    "    sns.heatmap(df.corr(), annot=True, cmap='coolwarm', ax=axes[i])\n",
    "    axes[i].set_title(\"Correlation Matrix {}\".format(split))\n",
    "\n",
    "\n",
    "plt.show()\n"
   ]
  },
  {
   "cell_type": "markdown",
   "id": "5d2abfa0",
   "metadata": {
    "id": "e4b0d9e1",
    "papermill": {
     "duration": 0.052539,
     "end_time": "2025-07-22T13:14:53.332761",
     "exception": false,
     "start_time": "2025-07-22T13:14:53.280222",
     "status": "completed"
    },
    "tags": []
   },
   "source": [
    "## Phân phối dữ liệu của độ dài câu (tokens)"
   ]
  },
  {
   "cell_type": "code",
   "execution_count": 12,
   "id": "19f168bf",
   "metadata": {
    "execution": {
     "iopub.execute_input": "2025-07-22T13:14:53.355319Z",
     "iopub.status.busy": "2025-07-22T13:14:53.354700Z",
     "iopub.status.idle": "2025-07-22T13:14:55.892654Z",
     "shell.execute_reply": "2025-07-22T13:14:55.891913Z"
    },
    "executionInfo": {
     "elapsed": 5522,
     "status": "ok",
     "timestamp": 1753183296252,
     "user": {
      "displayName": "Linh Trần Hoàng",
      "userId": "05969840801290979020"
     },
     "user_tz": -420
    },
    "id": "cfbc7e74",
    "outputId": "bb99c50d-b509-453d-fd8b-3f86512a868d",
    "papermill": {
     "duration": 2.552008,
     "end_time": "2025-07-22T13:14:55.895120",
     "exception": false,
     "start_time": "2025-07-22T13:14:53.343112",
     "status": "completed"
    },
    "tags": []
   },
   "outputs": [
    {
     "name": "stderr",
     "output_type": "stream",
     "text": [
      "/usr/local/lib/python3.11/dist-packages/seaborn/_oldcore.py:1119: FutureWarning: use_inf_as_na option is deprecated and will be removed in a future version. Convert inf values to NaN before operating instead.\n",
      "  with pd.option_context('mode.use_inf_as_na', True):\n",
      "/usr/local/lib/python3.11/dist-packages/seaborn/_oldcore.py:1119: FutureWarning: use_inf_as_na option is deprecated and will be removed in a future version. Convert inf values to NaN before operating instead.\n",
      "  with pd.option_context('mode.use_inf_as_na', True):\n",
      "/usr/local/lib/python3.11/dist-packages/seaborn/_oldcore.py:1119: FutureWarning: use_inf_as_na option is deprecated and will be removed in a future version. Convert inf values to NaN before operating instead.\n",
      "  with pd.option_context('mode.use_inf_as_na', True):\n",
      "/usr/local/lib/python3.11/dist-packages/seaborn/_oldcore.py:1119: FutureWarning: use_inf_as_na option is deprecated and will be removed in a future version. Convert inf values to NaN before operating instead.\n",
      "  with pd.option_context('mode.use_inf_as_na', True):\n",
      "/usr/local/lib/python3.11/dist-packages/seaborn/_oldcore.py:1119: FutureWarning: use_inf_as_na option is deprecated and will be removed in a future version. Convert inf values to NaN before operating instead.\n",
      "  with pd.option_context('mode.use_inf_as_na', True):\n",
      "/usr/local/lib/python3.11/dist-packages/seaborn/_oldcore.py:1119: FutureWarning: use_inf_as_na option is deprecated and will be removed in a future version. Convert inf values to NaN before operating instead.\n",
      "  with pd.option_context('mode.use_inf_as_na', True):\n",
      "/usr/local/lib/python3.11/dist-packages/seaborn/_oldcore.py:1119: FutureWarning: use_inf_as_na option is deprecated and will be removed in a future version. Convert inf values to NaN before operating instead.\n",
      "  with pd.option_context('mode.use_inf_as_na', True):\n",
      "/usr/local/lib/python3.11/dist-packages/seaborn/_oldcore.py:1119: FutureWarning: use_inf_as_na option is deprecated and will be removed in a future version. Convert inf values to NaN before operating instead.\n",
      "  with pd.option_context('mode.use_inf_as_na', True):\n",
      "/usr/local/lib/python3.11/dist-packages/seaborn/_oldcore.py:1119: FutureWarning: use_inf_as_na option is deprecated and will be removed in a future version. Convert inf values to NaN before operating instead.\n",
      "  with pd.option_context('mode.use_inf_as_na', True):\n",
      "/usr/local/lib/python3.11/dist-packages/seaborn/_oldcore.py:1119: FutureWarning: use_inf_as_na option is deprecated and will be removed in a future version. Convert inf values to NaN before operating instead.\n",
      "  with pd.option_context('mode.use_inf_as_na', True):\n",
      "/usr/local/lib/python3.11/dist-packages/seaborn/_oldcore.py:1119: FutureWarning: use_inf_as_na option is deprecated and will be removed in a future version. Convert inf values to NaN before operating instead.\n",
      "  with pd.option_context('mode.use_inf_as_na', True):\n",
      "/usr/local/lib/python3.11/dist-packages/seaborn/_oldcore.py:1119: FutureWarning: use_inf_as_na option is deprecated and will be removed in a future version. Convert inf values to NaN before operating instead.\n",
      "  with pd.option_context('mode.use_inf_as_na', True):\n"
     ]
    },
    {
     "data": {
      "image/png": "[encoded data removed]",
      "text/plain": [
       "<Figure size 1800x1000 with 6 Axes>"
      ]
     },
     "metadata": {},
     "output_type": "display_data"
    }
   ],
   "source": [
    "fig, axes = plt.subplots(\n",
    "    nrows=2, ncols=3,\n",
    "    figsize=(18, 10),\n",
    "    constrained_layout=True\n",
    ")\n",
    "\n",
    "for j, split in enumerate(['train', 'val', 'test']):\n",
    "    df = datasets[split]\n",
    "\n",
    "    lengths = df['source'].dropna().str.len()\n",
    "\n",
    "    sns.histplot(lengths, bins=50, color='skyblue', edgecolor='black', stat='density', ax=axes[0, j])\n",
    "    sns.kdeplot(lengths, color='red', linewidth=2, ax=axes[0, j])\n",
    "\n",
    "    axes[0, j].set_title(f'{split} — độ dài câu (\"source\")')\n",
    "    axes[0, j].set_xlabel('Số từ')\n",
    "    axes[0, j].set_ylabel('Số mẫu')\n",
    "\n",
    "\n",
    "    lengths = df['target'].dropna().str.split().apply(len)\n",
    "\n",
    "    sns.histplot(lengths, bins=50, color='skyblue', edgecolor='black', stat='density', ax=axes[1, j])\n",
    "    sns.kdeplot(lengths, color='red', linewidth=2, ax=axes[1, j])\n",
    "\n",
    "    axes[1, j].set_title(f'{split} — độ dài câu (\"target\")')\n",
    "    axes[1, j].set_xlabel('Số từ')\n",
    "    axes[1, j].set_ylabel('Số mẫu')\n",
    "\n",
    "plt.show()\n"
   ]
  },
  {
   "cell_type": "markdown",
   "id": "9190d421",
   "metadata": {
    "id": "bfe4a687",
    "papermill": {
     "duration": 0.014561,
     "end_time": "2025-07-22T13:14:55.924773",
     "exception": false,
     "start_time": "2025-07-22T13:14:55.910212",
     "status": "completed"
    },
    "tags": []
   },
   "source": [
    "***tương đồng (source,  target) => kiểu dịch 1-1. phần phổi giữa các tập không đều***"
   ]
  },
  {
   "cell_type": "code",
   "execution_count": 13,
   "id": "dae3bef9",
   "metadata": {
    "execution": {
     "iopub.execute_input": "2025-07-22T13:14:55.953439Z",
     "iopub.status.busy": "2025-07-22T13:14:55.953193Z",
     "iopub.status.idle": "2025-07-22T13:14:56.182516Z",
     "shell.execute_reply": "2025-07-22T13:14:56.181564Z"
    },
    "executionInfo": {
     "elapsed": 398,
     "status": "ok",
     "timestamp": 1753183296654,
     "user": {
      "displayName": "Linh Trần Hoàng",
      "userId": "05969840801290979020"
     },
     "user_tz": -420
    },
    "id": "b0ce095f",
    "outputId": "45d04cd4-5149-46e9-8800-9295380770bd",
    "papermill": {
     "duration": 0.24509,
     "end_time": "2025-07-22T13:14:56.183754",
     "exception": false,
     "start_time": "2025-07-22T13:14:55.938664",
     "status": "completed"
    },
    "tags": []
   },
   "outputs": [
    {
     "name": "stdout",
     "output_type": "stream",
     "text": [
      "|            |   ('train', 'source') |   ('train', 'target') |   ('val', 'source') |   ('val', 'target') |   ('test', 'source') |   ('test', 'target') |\n",
      "|:-----------|----------------------:|----------------------:|--------------------:|--------------------:|---------------------:|---------------------:|\n",
      "| count_len  |            47395      |            47395      |           5924      |           5924      |            5925      |            5925      |\n",
      "| unique_len |              139      |              136      |             93      |             93      |              93      |              92      |\n",
      "| mean       |               11.8116 |               11.899  |             11.9191 |             11.9828 |              12.0846 |              12.1408 |\n",
      "| std        |               11.0011 |               11.0699 |             11.4257 |             11.4189 |              11.2871 |              11.3278 |\n",
      "| min        |                1      |                1      |              1      |              1      |               1      |               1      |\n",
      "| 5%         |                4      |                4      |              4      |              4      |               4      |               4      |\n",
      "| 25%        |                6      |                6      |              6      |              6      |               6      |               6      |\n",
      "| 50%        |                8      |                8      |              8      |              8      |               8      |               8      |\n",
      "| 75%        |               14      |               14      |             14      |             14      |              14      |              14      |\n",
      "| 95%        |               31      |               32      |             32      |             33      |              32      |              32      |\n",
      "| max        |              196      |              196      |            151      |            151      |             171      |             171      |\n"
     ]
    }
   ],
   "source": [
    "stats = {}\n",
    "for split, df in datasets.items():\n",
    "    for col in ['source', 'target']:\n",
    "        if col == 'target':\n",
    "            lengths = df[col].dropna().str.split().apply(len)\n",
    "        else:\n",
    "            lengths = df[col].dropna().str.len()\n",
    "\n",
    "        stats[(split, col)] = [\n",
    "            len(lengths),             # count\n",
    "            lengths.nunique(),        # unique\n",
    "            lengths.mean(),           # mean\n",
    "            lengths.std(),            # std\n",
    "            lengths.min(),            # min\n",
    "            lengths.quantile(0.05),   # 5%\n",
    "            lengths.quantile(0.25),   # 25%\n",
    "            lengths.quantile(0.50),   # 50%\n",
    "            lengths.quantile(0.75),   # 75%\n",
    "            lengths.quantile(0.95),   # 95%\n",
    "            lengths.max()             # max\n",
    "        ]\n",
    "\n",
    "index = ['count_len', 'unique_len', 'mean', 'std', 'min', '5%', '25%', '50%', '75%', '95%', 'max']\n",
    "columns = pd.MultiIndex.from_tuples(stats.keys(), names=('split', 'column'))\n",
    "df_stats = pd.DataFrame(list(stats.values()), index=columns, columns=index).T\n",
    "\n",
    "print(df_stats.to_markdown())"
   ]
  },
  {
   "cell_type": "markdown",
   "id": "30e21119",
   "metadata": {
    "id": "1853a64f",
    "papermill": {
     "duration": 0.013188,
     "end_time": "2025-07-22T13:14:56.211580",
     "exception": false,
     "start_time": "2025-07-22T13:14:56.198392",
     "status": "completed"
    },
    "tags": []
   },
   "source": [
    "***có chữa những câu dài nhưng trong đó chỉ có 95% dữ liệu <= độ dài là 31 => có sự tồn tại của outliers. (nên loại bỏ)***"
   ]
  },
  {
   "cell_type": "markdown",
   "id": "578bf51e",
   "metadata": {
    "id": "509179c0",
    "papermill": {
     "duration": 0.01297,
     "end_time": "2025-07-22T13:14:56.237342",
     "exception": false,
     "start_time": "2025-07-22T13:14:56.224372",
     "status": "completed"
    },
    "tags": []
   },
   "source": [
    "## Mô tả thông tin của tập dữ liệu"
   ]
  },
  {
   "cell_type": "markdown",
   "id": "fb981ea7",
   "metadata": {
    "id": "480d476e",
    "papermill": {
     "duration": 0.01274,
     "end_time": "2025-07-22T13:14:56.262943",
     "exception": false,
     "start_time": "2025-07-22T13:14:56.250203",
     "status": "completed"
    },
    "tags": []
   },
   "source": [
    "### 1. Tập Train"
   ]
  },
  {
   "cell_type": "code",
   "execution_count": 14,
   "id": "98622cc9",
   "metadata": {
    "execution": {
     "iopub.execute_input": "2025-07-22T13:14:56.290097Z",
     "iopub.status.busy": "2025-07-22T13:14:56.289858Z",
     "iopub.status.idle": "2025-07-22T13:14:56.407174Z",
     "shell.execute_reply": "2025-07-22T13:14:56.406417Z"
    },
    "executionInfo": {
     "elapsed": 283,
     "status": "ok",
     "timestamp": 1753183296942,
     "user": {
      "displayName": "Linh Trần Hoàng",
      "userId": "05969840801290979020"
     },
     "user_tz": -420
    },
    "id": "cb72726d",
    "outputId": "95913540-02ea-4e2b-ce75-068b9a54c877",
    "papermill": {
     "duration": 0.132763,
     "end_time": "2025-07-22T13:14:56.408554",
     "exception": false,
     "start_time": "2025-07-22T13:14:56.275791",
     "status": "completed"
    },
    "tags": []
   },
   "outputs": [
    {
     "name": "stdout",
     "output_type": "stream",
     "text": [
      "Số cặp source-target trùng nhau: 0\n"
     ]
    },
    {
     "data": {
      "text/html": [
       "<div>\n",
       "<style scoped>\n",
       "    .dataframe tbody tr th:only-of-type {\n",
       "        vertical-align: middle;\n",
       "    }\n",
       "\n",
       "    .dataframe tbody tr th {\n",
       "        vertical-align: top;\n",
       "    }\n",
       "\n",
       "    .dataframe thead th {\n",
       "        text-align: right;\n",
       "    }\n",
       "</style>\n",
       "<table border=\"1\" class=\"dataframe\">\n",
       "  <thead>\n",
       "    <tr style=\"text-align: right;\">\n",
       "      <th></th>\n",
       "      <th>source</th>\n",
       "      <th>target</th>\n",
       "    </tr>\n",
       "  </thead>\n",
       "  <tbody>\n",
       "    <tr>\n",
       "      <th>count</th>\n",
       "      <td>47395</td>\n",
       "      <td>47395</td>\n",
       "    </tr>\n",
       "    <tr>\n",
       "      <th>unique</th>\n",
       "      <td>46895</td>\n",
       "      <td>44141</td>\n",
       "    </tr>\n",
       "    <tr>\n",
       "      <th>top</th>\n",
       "      <td>調󰠲𦖻󱩇頭𧙜𦇒連倍𠳨症之𣈜󰅹</td>\n",
       "      <td>gái tơ mà đã ngứa nghề sớm sao</td>\n",
       "    </tr>\n",
       "    <tr>\n",
       "      <th>freq</th>\n",
       "      <td>4</td>\n",
       "      <td>5</td>\n",
       "    </tr>\n",
       "  </tbody>\n",
       "</table>\n",
       "</div>"
      ],
      "text/plain": [
       "                source                          target\n",
       "count            47395                           47395\n",
       "unique           46895                           44141\n",
       "top     調󰠲𦖻󱩇頭𧙜𦇒連倍𠳨症之𣈜󰅹  gái tơ mà đã ngứa nghề sớm sao\n",
       "freq                 4                               5"
      ]
     },
     "execution_count": 14,
     "metadata": {},
     "output_type": "execute_result"
    }
   ],
   "source": [
    "df = pd.DataFrame({\n",
    "    \"source\": datasets['train']['source'].describe(),\n",
    "    \"target\": datasets['train']['target'].describe()\n",
    "})\n",
    "\n",
    "dupes = datasets['train'].duplicated(subset=['source','target']).sum()\n",
    "print(f\"Số cặp source-target trùng nhau: {dupes}\")\n",
    "\n",
    "df"
   ]
  },
  {
   "cell_type": "markdown",
   "id": "509329a9",
   "metadata": {
    "id": "fda42d57",
    "papermill": {
     "duration": 0.0147,
     "end_time": "2025-07-22T13:14:56.438586",
     "exception": false,
     "start_time": "2025-07-22T13:14:56.423886",
     "status": "completed"
    },
    "tags": []
   },
   "source": [
    "***cho thấy 1 câu nhưng nhiều nghĩa***"
   ]
  },
  {
   "cell_type": "markdown",
   "id": "8f3e3648",
   "metadata": {
    "id": "176b6b9c",
    "papermill": {
     "duration": 0.014698,
     "end_time": "2025-07-22T13:14:56.467625",
     "exception": false,
     "start_time": "2025-07-22T13:14:56.452927",
     "status": "completed"
    },
    "tags": []
   },
   "source": [
    "### 2. Tập val"
   ]
  },
  {
   "cell_type": "code",
   "execution_count": 15,
   "id": "d0a31c7d",
   "metadata": {
    "execution": {
     "iopub.execute_input": "2025-07-22T13:14:56.499998Z",
     "iopub.status.busy": "2025-07-22T13:14:56.499268Z",
     "iopub.status.idle": "2025-07-22T13:14:56.521906Z",
     "shell.execute_reply": "2025-07-22T13:14:56.521323Z"
    },
    "executionInfo": {
     "elapsed": 59,
     "status": "ok",
     "timestamp": 1753183297004,
     "user": {
      "displayName": "Linh Trần Hoàng",
      "userId": "05969840801290979020"
     },
     "user_tz": -420
    },
    "id": "e6171b40",
    "outputId": "025e0279-5279-48ab-81c5-a4458b9b8a80",
    "papermill": {
     "duration": 0.039501,
     "end_time": "2025-07-22T13:14:56.523027",
     "exception": false,
     "start_time": "2025-07-22T13:14:56.483526",
     "status": "completed"
    },
    "tags": []
   },
   "outputs": [
    {
     "name": "stdout",
     "output_type": "stream",
     "text": [
      "Số cặp source-target trùng nhau: 0\n"
     ]
    },
    {
     "data": {
      "text/html": [
       "<div>\n",
       "<style scoped>\n",
       "    .dataframe tbody tr th:only-of-type {\n",
       "        vertical-align: middle;\n",
       "    }\n",
       "\n",
       "    .dataframe tbody tr th {\n",
       "        vertical-align: top;\n",
       "    }\n",
       "\n",
       "    .dataframe thead th {\n",
       "        text-align: right;\n",
       "    }\n",
       "</style>\n",
       "<table border=\"1\" class=\"dataframe\">\n",
       "  <thead>\n",
       "    <tr style=\"text-align: right;\">\n",
       "      <th></th>\n",
       "      <th>source</th>\n",
       "      <th>target</th>\n",
       "    </tr>\n",
       "  </thead>\n",
       "  <tbody>\n",
       "    <tr>\n",
       "      <th>count</th>\n",
       "      <td>5924</td>\n",
       "      <td>5924</td>\n",
       "    </tr>\n",
       "    <tr>\n",
       "      <th>unique</th>\n",
       "      <td>5914</td>\n",
       "      <td>5866</td>\n",
       "    </tr>\n",
       "    <tr>\n",
       "      <th>top</th>\n",
       "      <td>自󰳅𨖅東南𡴯𡑩</td>\n",
       "      <td>canh khuya thân gái dặm trường</td>\n",
       "    </tr>\n",
       "    <tr>\n",
       "      <th>freq</th>\n",
       "      <td>2</td>\n",
       "      <td>3</td>\n",
       "    </tr>\n",
       "  </tbody>\n",
       "</table>\n",
       "</div>"
      ],
      "text/plain": [
       "         source                          target\n",
       "count      5924                            5924\n",
       "unique     5914                            5866\n",
       "top     自󰳅𨖅東南𡴯𡑩  canh khuya thân gái dặm trường\n",
       "freq          2                               3"
      ]
     },
     "execution_count": 15,
     "metadata": {},
     "output_type": "execute_result"
    }
   ],
   "source": [
    "df = pd.DataFrame({\n",
    "    \"source\": datasets['val']['source'].describe(),\n",
    "    \"target\": datasets['val']['target'].describe()\n",
    "})\n",
    "\n",
    "dupes = datasets['val'].duplicated(subset=['source','target']).sum()\n",
    "print(f\"Số cặp source-target trùng nhau: {dupes}\")\n",
    "\n",
    "df"
   ]
  },
  {
   "cell_type": "markdown",
   "id": "e95b4d38",
   "metadata": {
    "id": "b99ead6d",
    "papermill": {
     "duration": 0.013291,
     "end_time": "2025-07-22T13:14:56.550007",
     "exception": false,
     "start_time": "2025-07-22T13:14:56.536716",
     "status": "completed"
    },
    "tags": []
   },
   "source": [
    "### 3. Tập test"
   ]
  },
  {
   "cell_type": "code",
   "execution_count": 16,
   "id": "d0ffc43e",
   "metadata": {
    "execution": {
     "iopub.execute_input": "2025-07-22T13:14:56.577851Z",
     "iopub.status.busy": "2025-07-22T13:14:56.577432Z",
     "iopub.status.idle": "2025-07-22T13:14:56.599032Z",
     "shell.execute_reply": "2025-07-22T13:14:56.598367Z"
    },
    "executionInfo": {
     "elapsed": 124,
     "status": "ok",
     "timestamp": 1753183297133,
     "user": {
      "displayName": "Linh Trần Hoàng",
      "userId": "05969840801290979020"
     },
     "user_tz": -420
    },
    "id": "09986e00",
    "outputId": "47ea2443-fe26-4889-c09f-06b832b612f1",
    "papermill": {
     "duration": 0.036483,
     "end_time": "2025-07-22T13:14:56.600039",
     "exception": false,
     "start_time": "2025-07-22T13:14:56.563556",
     "status": "completed"
    },
    "tags": []
   },
   "outputs": [
    {
     "name": "stdout",
     "output_type": "stream",
     "text": [
      "Số cặp source-target trùng nhau: 0\n"
     ]
    },
    {
     "data": {
      "text/html": [
       "<div>\n",
       "<style scoped>\n",
       "    .dataframe tbody tr th:only-of-type {\n",
       "        vertical-align: middle;\n",
       "    }\n",
       "\n",
       "    .dataframe tbody tr th {\n",
       "        vertical-align: top;\n",
       "    }\n",
       "\n",
       "    .dataframe thead th {\n",
       "        text-align: right;\n",
       "    }\n",
       "</style>\n",
       "<table border=\"1\" class=\"dataframe\">\n",
       "  <thead>\n",
       "    <tr style=\"text-align: right;\">\n",
       "      <th></th>\n",
       "      <th>source</th>\n",
       "      <th>target</th>\n",
       "    </tr>\n",
       "  </thead>\n",
       "  <tbody>\n",
       "    <tr>\n",
       "      <th>count</th>\n",
       "      <td>5925</td>\n",
       "      <td>5925</td>\n",
       "    </tr>\n",
       "    <tr>\n",
       "      <th>unique</th>\n",
       "      <td>5916</td>\n",
       "      <td>5875</td>\n",
       "    </tr>\n",
       "    <tr>\n",
       "      <th>top</th>\n",
       "      <td>強吹珠啫絲紆強商</td>\n",
       "      <td>sở khanh đã rẽ dây cương lối nào</td>\n",
       "    </tr>\n",
       "    <tr>\n",
       "      <th>freq</th>\n",
       "      <td>2</td>\n",
       "      <td>3</td>\n",
       "    </tr>\n",
       "  </tbody>\n",
       "</table>\n",
       "</div>"
      ],
      "text/plain": [
       "          source                            target\n",
       "count       5925                              5925\n",
       "unique      5916                              5875\n",
       "top     強吹珠啫絲紆強商  sở khanh đã rẽ dây cương lối nào\n",
       "freq           2                                 3"
      ]
     },
     "execution_count": 16,
     "metadata": {},
     "output_type": "execute_result"
    }
   ],
   "source": [
    "df = pd.DataFrame({\n",
    "    \"source\": datasets['test']['source'].describe(),\n",
    "    \"target\": datasets['test']['target'].describe()\n",
    "})\n",
    "\n",
    "dupes = datasets['test'].duplicated(subset=['source','target']).sum()\n",
    "print(f\"Số cặp source-target trùng nhau: {dupes}\")\n",
    "\n",
    "df"
   ]
  },
  {
   "cell_type": "markdown",
   "id": "e82f16e3",
   "metadata": {
    "id": "0e91e329",
    "papermill": {
     "duration": 0.013327,
     "end_time": "2025-07-22T13:14:56.628351",
     "exception": false,
     "start_time": "2025-07-22T13:14:56.615024",
     "status": "completed"
    },
    "tags": []
   },
   "source": [
    "# Evaluation model"
   ]
  },
  {
   "cell_type": "code",
   "execution_count": 17,
   "id": "a675dd1c",
   "metadata": {
    "execution": {
     "iopub.execute_input": "2025-07-22T13:14:56.657018Z",
     "iopub.status.busy": "2025-07-22T13:14:56.656506Z",
     "iopub.status.idle": "2025-07-22T13:14:56.686079Z",
     "shell.execute_reply": "2025-07-22T13:14:56.685542Z"
    },
    "executionInfo": {
     "elapsed": 8,
     "status": "ok",
     "timestamp": 1753183297152,
     "user": {
      "displayName": "Linh Trần Hoàng",
      "userId": "05969840801290979020"
     },
     "user_tz": -420
    },
    "id": "ngc-aFg9yGuf",
    "papermill": {
     "duration": 0.044724,
     "end_time": "2025-07-22T13:14:56.687074",
     "exception": false,
     "start_time": "2025-07-22T13:14:56.642350",
     "status": "completed"
    },
    "tags": []
   },
   "outputs": [],
   "source": [
    "df_test = pd.read_csv(paths['test'])"
   ]
  },
  {
   "cell_type": "code",
   "execution_count": 18,
   "id": "73d6071c",
   "metadata": {
    "execution": {
     "iopub.execute_input": "2025-07-22T13:14:56.714894Z",
     "iopub.status.busy": "2025-07-22T13:14:56.714402Z",
     "iopub.status.idle": "2025-07-22T13:14:59.026081Z",
     "shell.execute_reply": "2025-07-22T13:14:59.025268Z"
    },
    "executionInfo": {
     "elapsed": 6089,
     "status": "ok",
     "timestamp": 1753183303250,
     "user": {
      "displayName": "Linh Trần Hoàng",
      "userId": "05969840801290979020"
     },
     "user_tz": -420
    },
    "id": "7udUYoJfyJuE",
    "outputId": "cf31f724-64b0-4567-b951-de3bd7d53fff",
    "papermill": {
     "duration": 2.327081,
     "end_time": "2025-07-22T13:14:59.027679",
     "exception": false,
     "start_time": "2025-07-22T13:14:56.700598",
     "status": "completed"
    },
    "tags": []
   },
   "outputs": [
    {
     "data": {
      "text/plain": [
       "MT5ForConditionalGeneration(\n",
       "  (shared): Embedding(250112, 512)\n",
       "  (encoder): MT5Stack(\n",
       "    (embed_tokens): Embedding(250112, 512)\n",
       "    (block): ModuleList(\n",
       "      (0): MT5Block(\n",
       "        (layer): ModuleList(\n",
       "          (0): MT5LayerSelfAttention(\n",
       "            (SelfAttention): MT5Attention(\n",
       "              (q): Linear(in_features=512, out_features=384, bias=False)\n",
       "              (k): Linear(in_features=512, out_features=384, bias=False)\n",
       "              (v): Linear(in_features=512, out_features=384, bias=False)\n",
       "              (o): Linear(in_features=384, out_features=512, bias=False)\n",
       "              (relative_attention_bias): Embedding(32, 6)\n",
       "            )\n",
       "            (layer_norm): MT5LayerNorm()\n",
       "            (dropout): Dropout(p=0.1, inplace=False)\n",
       "          )\n",
       "          (1): MT5LayerFF(\n",
       "            (DenseReluDense): MT5DenseGatedActDense(\n",
       "              (wi_0): Linear(in_features=512, out_features=1024, bias=False)\n",
       "              (wi_1): Linear(in_features=512, out_features=1024, bias=False)\n",
       "              (wo): Linear(in_features=1024, out_features=512, bias=False)\n",
       "              (dropout): Dropout(p=0.1, inplace=False)\n",
       "              (act): NewGELUActivation()\n",
       "            )\n",
       "            (layer_norm): MT5LayerNorm()\n",
       "            (dropout): Dropout(p=0.1, inplace=False)\n",
       "          )\n",
       "        )\n",
       "      )\n",
       "      (1-7): 7 x MT5Block(\n",
       "        (layer): ModuleList(\n",
       "          (0): MT5LayerSelfAttention(\n",
       "            (SelfAttention): MT5Attention(\n",
       "              (q): Linear(in_features=512, out_features=384, bias=False)\n",
       "              (k): Linear(in_features=512, out_features=384, bias=False)\n",
       "              (v): Linear(in_features=512, out_features=384, bias=False)\n",
       "              (o): Linear(in_features=384, out_features=512, bias=False)\n",
       "            )\n",
       "            (layer_norm): MT5LayerNorm()\n",
       "            (dropout): Dropout(p=0.1, inplace=False)\n",
       "          )\n",
       "          (1): MT5LayerFF(\n",
       "            (DenseReluDense): MT5DenseGatedActDense(\n",
       "              (wi_0): Linear(in_features=512, out_features=1024, bias=False)\n",
       "              (wi_1): Linear(in_features=512, out_features=1024, bias=False)\n",
       "              (wo): Linear(in_features=1024, out_features=512, bias=False)\n",
       "              (dropout): Dropout(p=0.1, inplace=False)\n",
       "              (act): NewGELUActivation()\n",
       "            )\n",
       "            (layer_norm): MT5LayerNorm()\n",
       "            (dropout): Dropout(p=0.1, inplace=False)\n",
       "          )\n",
       "        )\n",
       "      )\n",
       "    )\n",
       "    (final_layer_norm): MT5LayerNorm()\n",
       "    (dropout): Dropout(p=0.1, inplace=False)\n",
       "  )\n",
       "  (decoder): MT5Stack(\n",
       "    (embed_tokens): Embedding(250112, 512)\n",
       "    (block): ModuleList(\n",
       "      (0): MT5Block(\n",
       "        (layer): ModuleList(\n",
       "          (0): MT5LayerSelfAttention(\n",
       "            (SelfAttention): MT5Attention(\n",
       "              (q): Linear(in_features=512, out_features=384, bias=False)\n",
       "              (k): Linear(in_features=512, out_features=384, bias=False)\n",
       "              (v): Linear(in_features=512, out_features=384, bias=False)\n",
       "              (o): Linear(in_features=384, out_features=512, bias=False)\n",
       "              (relative_attention_bias): Embedding(32, 6)\n",
       "            )\n",
       "            (layer_norm): MT5LayerNorm()\n",
       "            (dropout): Dropout(p=0.1, inplace=False)\n",
       "          )\n",
       "          (1): MT5LayerCrossAttention(\n",
       "            (EncDecAttention): MT5Attention(\n",
       "              (q): Linear(in_features=512, out_features=384, bias=False)\n",
       "              (k): Linear(in_features=512, out_features=384, bias=False)\n",
       "              (v): Linear(in_features=512, out_features=384, bias=False)\n",
       "              (o): Linear(in_features=384, out_features=512, bias=False)\n",
       "            )\n",
       "            (layer_norm): MT5LayerNorm()\n",
       "            (dropout): Dropout(p=0.1, inplace=False)\n",
       "          )\n",
       "          (2): MT5LayerFF(\n",
       "            (DenseReluDense): MT5DenseGatedActDense(\n",
       "              (wi_0): Linear(in_features=512, out_features=1024, bias=False)\n",
       "              (wi_1): Linear(in_features=512, out_features=1024, bias=False)\n",
       "              (wo): Linear(in_features=1024, out_features=512, bias=False)\n",
       "              (dropout): Dropout(p=0.1, inplace=False)\n",
       "              (act): NewGELUActivation()\n",
       "            )\n",
       "            (layer_norm): MT5LayerNorm()\n",
       "            (dropout): Dropout(p=0.1, inplace=False)\n",
       "          )\n",
       "        )\n",
       "      )\n",
       "      (1-7): 7 x MT5Block(\n",
       "        (layer): ModuleList(\n",
       "          (0): MT5LayerSelfAttention(\n",
       "            (SelfAttention): MT5Attention(\n",
       "              (q): Linear(in_features=512, out_features=384, bias=False)\n",
       "              (k): Linear(in_features=512, out_features=384, bias=False)\n",
       "              (v): Linear(in_features=512, out_features=384, bias=False)\n",
       "              (o): Linear(in_features=384, out_features=512, bias=False)\n",
       "            )\n",
       "            (layer_norm): MT5LayerNorm()\n",
       "            (dropout): Dropout(p=0.1, inplace=False)\n",
       "          )\n",
       "          (1): MT5LayerCrossAttention(\n",
       "            (EncDecAttention): MT5Attention(\n",
       "              (q): Linear(in_features=512, out_features=384, bias=False)\n",
       "              (k): Linear(in_features=512, out_features=384, bias=False)\n",
       "              (v): Linear(in_features=512, out_features=384, bias=False)\n",
       "              (o): Linear(in_features=384, out_features=512, bias=False)\n",
       "            )\n",
       "            (layer_norm): MT5LayerNorm()\n",
       "            (dropout): Dropout(p=0.1, inplace=False)\n",
       "          )\n",
       "          (2): MT5LayerFF(\n",
       "            (DenseReluDense): MT5DenseGatedActDense(\n",
       "              (wi_0): Linear(in_features=512, out_features=1024, bias=False)\n",
       "              (wi_1): Linear(in_features=512, out_features=1024, bias=False)\n",
       "              (wo): Linear(in_features=1024, out_features=512, bias=False)\n",
       "              (dropout): Dropout(p=0.1, inplace=False)\n",
       "              (act): NewGELUActivation()\n",
       "            )\n",
       "            (layer_norm): MT5LayerNorm()\n",
       "            (dropout): Dropout(p=0.1, inplace=False)\n",
       "          )\n",
       "        )\n",
       "      )\n",
       "    )\n",
       "    (final_layer_norm): MT5LayerNorm()\n",
       "    (dropout): Dropout(p=0.1, inplace=False)\n",
       "  )\n",
       "  (lm_head): Linear(in_features=512, out_features=250112, bias=False)\n",
       ")"
      ]
     },
     "execution_count": 18,
     "metadata": {},
     "output_type": "execute_result"
    }
   ],
   "source": [
    "tokenizer = MT5Tokenizer.from_pretrained(model_dir)\n",
    "model = MT5ForConditionalGeneration.from_pretrained(model_dir, torch_dtype=torch.float32)\n",
    "model.eval()"
   ]
  },
  {
   "cell_type": "code",
   "execution_count": 19,
   "id": "458fcf58",
   "metadata": {
    "execution": {
     "iopub.execute_input": "2025-07-22T13:14:59.061155Z",
     "iopub.status.busy": "2025-07-22T13:14:59.060557Z",
     "iopub.status.idle": "2025-07-22T13:14:59.065817Z",
     "shell.execute_reply": "2025-07-22T13:14:59.065173Z"
    },
    "executionInfo": {
     "elapsed": 21,
     "status": "ok",
     "timestamp": 1753183303251,
     "user": {
      "displayName": "Linh Trần Hoàng",
      "userId": "05969840801290979020"
     },
     "user_tz": -420
    },
    "id": "g8ZKGr9uyTMv",
    "outputId": "ede1a6de-6773-4020-a07f-c9b82e02a17e",
    "papermill": {
     "duration": 0.021115,
     "end_time": "2025-07-22T13:14:59.066834",
     "exception": false,
     "start_time": "2025-07-22T13:14:59.045719",
     "status": "completed"
    },
    "tags": []
   },
   "outputs": [
    {
     "data": {
      "text/plain": [
       "MT5Config {\n",
       "  \"architectures\": [\n",
       "    \"MT5ForConditionalGeneration\"\n",
       "  ],\n",
       "  \"classifier_dropout\": 0.0,\n",
       "  \"d_ff\": 1024,\n",
       "  \"d_kv\": 64,\n",
       "  \"d_model\": 512,\n",
       "  \"decoder_start_token_id\": 0,\n",
       "  \"dense_act_fn\": \"gelu_new\",\n",
       "  \"dropout_rate\": 0.1,\n",
       "  \"eos_token_id\": 1,\n",
       "  \"feed_forward_proj\": \"gated-gelu\",\n",
       "  \"initializer_factor\": 1.0,\n",
       "  \"is_encoder_decoder\": true,\n",
       "  \"is_gated_act\": true,\n",
       "  \"layer_norm_epsilon\": 1e-06,\n",
       "  \"model_type\": \"mt5\",\n",
       "  \"num_decoder_layers\": 8,\n",
       "  \"num_heads\": 6,\n",
       "  \"num_layers\": 8,\n",
       "  \"pad_token_id\": 0,\n",
       "  \"relative_attention_max_distance\": 128,\n",
       "  \"relative_attention_num_buckets\": 32,\n",
       "  \"tie_word_embeddings\": false,\n",
       "  \"tokenizer_class\": \"T5Tokenizer\",\n",
       "  \"torch_dtype\": \"float32\",\n",
       "  \"transformers_version\": \"4.52.4\",\n",
       "  \"use_cache\": true,\n",
       "  \"vocab_size\": 250112\n",
       "}"
      ]
     },
     "execution_count": 19,
     "metadata": {},
     "output_type": "execute_result"
    }
   ],
   "source": [
    "model.config"
   ]
  },
  {
   "cell_type": "markdown",
   "id": "7d84bc04",
   "metadata": {
    "id": "bhUwMjw4ywtv",
    "papermill": {
     "duration": 0.013973,
     "end_time": "2025-07-22T13:14:59.094933",
     "exception": false,
     "start_time": "2025-07-22T13:14:59.080960",
     "status": "completed"
    },
    "tags": []
   },
   "source": [
    "## Parameter Counts"
   ]
  },
  {
   "cell_type": "code",
   "execution_count": 20,
   "id": "2f7d7f8d",
   "metadata": {
    "execution": {
     "iopub.execute_input": "2025-07-22T13:14:59.124039Z",
     "iopub.status.busy": "2025-07-22T13:14:59.123803Z",
     "iopub.status.idle": "2025-07-22T13:14:59.129891Z",
     "shell.execute_reply": "2025-07-22T13:14:59.129159Z"
    },
    "executionInfo": {
     "elapsed": 11,
     "status": "ok",
     "timestamp": 1753183303252,
     "user": {
      "displayName": "Linh Trần Hoàng",
      "userId": "05969840801290979020"
     },
     "user_tz": -420
    },
    "id": "soqZ5-xQyt_o",
    "outputId": "9423e69d-58cb-49e9-e5c3-54382e9b24ac",
    "papermill": {
     "duration": 0.021569,
     "end_time": "2025-07-22T13:14:59.130999",
     "exception": false,
     "start_time": "2025-07-22T13:14:59.109430",
     "status": "completed"
    },
    "tags": []
   },
   "outputs": [
    {
     "name": "stdout",
     "output_type": "stream",
     "text": [
      "Tổng số tham số: 300,176,768\n",
      "Số tham số có thể huấn luyện (requires_grad=True): 300,176,768\n",
      "Số tham số cố định (frozen): 0\n"
     ]
    }
   ],
   "source": [
    "total_params = sum(p.numel() for p in model.parameters())\n",
    "trainable_params = sum(p.numel() for p in model.parameters() if p.requires_grad)\n",
    "print(f\"Tổng số tham số: {total_params:,}\")\n",
    "print(f\"Số tham số có thể huấn luyện (requires_grad=True): {trainable_params:,}\")\n",
    "print(f\"Số tham số cố định (frozen): {total_params - trainable_params:,}\")"
   ]
  },
  {
   "cell_type": "code",
   "execution_count": 21,
   "id": "ab2e60cc",
   "metadata": {
    "execution": {
     "iopub.execute_input": "2025-07-22T13:14:59.160318Z",
     "iopub.status.busy": "2025-07-22T13:14:59.159754Z",
     "iopub.status.idle": "2025-07-22T13:14:59.164830Z",
     "shell.execute_reply": "2025-07-22T13:14:59.164125Z"
    },
    "executionInfo": {
     "elapsed": 5,
     "status": "ok",
     "timestamp": 1753183303253,
     "user": {
      "displayName": "Linh Trần Hoàng",
      "userId": "05969840801290979020"
     },
     "user_tz": -420
    },
    "id": "263559b6",
    "papermill": {
     "duration": 0.020648,
     "end_time": "2025-07-22T13:14:59.165902",
     "exception": false,
     "start_time": "2025-07-22T13:14:59.145254",
     "status": "completed"
    },
    "tags": []
   },
   "outputs": [],
   "source": [
    "def generate_translation_batch(texts, tokenizer, model, max_input_len=128, max_output_len=128, batch_size=32):\n",
    "    all_outputs = []\n",
    "\n",
    "    for i in range(0, len(texts), batch_size):\n",
    "        batch_texts = texts[i:i+batch_size]\n",
    "        inputs = tokenizer(batch_texts, return_tensors=\"pt\", padding=True, truncation=True, max_length=max_input_len)\n",
    "        input_ids = inputs.input_ids.to(model.device)\n",
    "        attention_mask = inputs.attention_mask.to(model.device)\n",
    "\n",
    "        with torch.no_grad():\n",
    "            outputs = model.generate(\n",
    "                input_ids=input_ids,\n",
    "                attention_mask=attention_mask,\n",
    "                max_length=max_output_len,\n",
    "                num_beams=4,\n",
    "                early_stopping=True\n",
    "            )\n",
    "\n",
    "        decoded = tokenizer.batch_decode(outputs, skip_special_tokens=True)\n",
    "        all_outputs.extend(decoded)\n",
    "\n",
    "    return all_outputs\n"
   ]
  },
  {
   "cell_type": "code",
   "execution_count": 22,
   "id": "71e77681",
   "metadata": {
    "execution": {
     "iopub.execute_input": "2025-07-22T13:14:59.195665Z",
     "iopub.status.busy": "2025-07-22T13:14:59.194956Z",
     "iopub.status.idle": "2025-07-22T16:28:32.256499Z",
     "shell.execute_reply": "2025-07-22T16:28:32.255659Z"
    },
    "id": "YhmGNYzS2421",
    "papermill": {
     "duration": 11613.093142,
     "end_time": "2025-07-22T16:28:32.273814",
     "exception": false,
     "start_time": "2025-07-22T13:14:59.180672",
     "status": "completed"
    },
    "tags": []
   },
   "outputs": [
    {
     "data": {
      "text/html": [
       "<div>\n",
       "<style scoped>\n",
       "    .dataframe tbody tr th:only-of-type {\n",
       "        vertical-align: middle;\n",
       "    }\n",
       "\n",
       "    .dataframe tbody tr th {\n",
       "        vertical-align: top;\n",
       "    }\n",
       "\n",
       "    .dataframe thead th {\n",
       "        text-align: right;\n",
       "    }\n",
       "</style>\n",
       "<table border=\"1\" class=\"dataframe\">\n",
       "  <thead>\n",
       "    <tr style=\"text-align: right;\">\n",
       "      <th></th>\n",
       "      <th>source</th>\n",
       "      <th>predicted_output</th>\n",
       "      <th>target</th>\n",
       "    </tr>\n",
       "  </thead>\n",
       "  <tbody>\n",
       "    <tr>\n",
       "      <th>0</th>\n",
       "      <td>translate Vietnamese_nom to Vietnamese: 上皇曰家奴雖...</td>\n",
       "      <td>thượng hoàng viết gia nô tuy hữu vi lạp, bất đ...</td>\n",
       "      <td>thượng hoàng viết gia nô tuy hữu vi lao bất đắ...</td>\n",
       "    </tr>\n",
       "    <tr>\n",
       "      <th>1</th>\n",
       "      <td>translate Vietnamese_nom to Vietnamese: 𣈘冬長銅壼咱説</td>\n",
       "      <td>đêm đông trường đồng hồ thính thốt</td>\n",
       "      <td>đêm đông trường đồng hồ thánh thót</td>\n",
       "    </tr>\n",
       "    <tr>\n",
       "      <th>2</th>\n",
       "      <td>translate Vietnamese_nom to Vietnamese: 碎它別󰘚別𠸜冷冷</td>\n",
       "      <td>tôi đà biết mặt biết tên lành lành</td>\n",
       "      <td>tôi đà biết mặt biết tên rành rành</td>\n",
       "    </tr>\n",
       "    <tr>\n",
       "      <th>3</th>\n",
       "      <td>translate Vietnamese_nom to Vietnamese: 𡭧之哏咘󰜋𠄩</td>\n",
       "      <td>chút chi cắn bó một hai</td>\n",
       "      <td>chút chi gắn bó một hai</td>\n",
       "    </tr>\n",
       "    <tr>\n",
       "      <th>4</th>\n",
       "      <td>translate Vietnamese_nom to Vietnamese: 吨嗃外󰘂劔之燕英</td>\n",
       "      <td>đồn kêu ngoài cửa kém chi yến anh</td>\n",
       "      <td>xôn xao ngoài cửa kém gì yến anh</td>\n",
       "    </tr>\n",
       "  </tbody>\n",
       "</table>\n",
       "</div>"
      ],
      "text/plain": [
       "                                              source  \\\n",
       "0  translate Vietnamese_nom to Vietnamese: 上皇曰家奴雖...   \n",
       "1    translate Vietnamese_nom to Vietnamese: 𣈘冬長銅壼咱説   \n",
       "2   translate Vietnamese_nom to Vietnamese: 碎它別󰘚別𠸜冷冷   \n",
       "3     translate Vietnamese_nom to Vietnamese: 𡭧之哏咘󰜋𠄩   \n",
       "4   translate Vietnamese_nom to Vietnamese: 吨嗃外󰘂劔之燕英   \n",
       "\n",
       "                                    predicted_output  \\\n",
       "0  thượng hoàng viết gia nô tuy hữu vi lạp, bất đ...   \n",
       "1                 đêm đông trường đồng hồ thính thốt   \n",
       "2                 tôi đà biết mặt biết tên lành lành   \n",
       "3                            chút chi cắn bó một hai   \n",
       "4                  đồn kêu ngoài cửa kém chi yến anh   \n",
       "\n",
       "                                              target  \n",
       "0  thượng hoàng viết gia nô tuy hữu vi lao bất đắ...  \n",
       "1                 đêm đông trường đồng hồ thánh thót  \n",
       "2                 tôi đà biết mặt biết tên rành rành  \n",
       "3                            chút chi gắn bó một hai  \n",
       "4                   xôn xao ngoài cửa kém gì yến anh  "
      ]
     },
     "execution_count": 22,
     "metadata": {},
     "output_type": "execute_result"
    }
   ],
   "source": [
    "test_subset = df_test.iloc[:].copy()\n",
    "test_texts = test_subset[\"source\"].tolist()\n",
    "\n",
    "outputs = generate_translation_batch(test_texts, tokenizer, model, batch_size=16)\n",
    "\n",
    "test_subset[\"predicted_output\"] = outputs\n",
    "test_subset[[\"source\", \"predicted_output\", \"target\"]].head()\n"
   ]
  },
  {
   "cell_type": "code",
   "execution_count": 23,
   "id": "1b88f624",
   "metadata": {
    "execution": {
     "iopub.execute_input": "2025-07-22T16:28:32.303342Z",
     "iopub.status.busy": "2025-07-22T16:28:32.303075Z",
     "iopub.status.idle": "2025-07-22T16:28:33.558575Z",
     "shell.execute_reply": "2025-07-22T16:28:33.557856Z"
    },
    "id": "399c07b2",
    "papermill": {
     "duration": 1.271401,
     "end_time": "2025-07-22T16:28:33.559741",
     "exception": false,
     "start_time": "2025-07-22T16:28:32.288340",
     "status": "completed"
    },
    "tags": []
   },
   "outputs": [
    {
     "data": {
      "application/vnd.jupyter.widget-view+json": {
       "model_id": "ba69c21356c14419baea7a9a9cb3f52b",
       "version_major": 2,
       "version_minor": 0
      },
      "text/plain": [
       "Downloading builder script: 0.00B [00:00, ?B/s]"
      ]
     },
     "metadata": {},
     "output_type": "display_data"
    },
    {
     "name": "stdout",
     "output_type": "stream",
     "text": [
      "BLEU score: 69.25\n"
     ]
    }
   ],
   "source": [
    "bleu = evaluate.load(\"sacrebleu\")\n",
    "\n",
    "references = [[ref] for ref in test_subset[\"target\"].tolist()]  # List of list\n",
    "predictions = test_subset[\"predicted_output\"].tolist()\n",
    "\n",
    "results = bleu.compute(predictions=predictions, references=references)\n",
    "print(f\"BLEU score: {results['score']:.2f}\")"
   ]
  },
  {
   "cell_type": "code",
   "execution_count": null,
   "id": "1d906b96",
   "metadata": {
    "papermill": {
     "duration": 0.014768,
     "end_time": "2025-07-22T16:28:33.589929",
     "exception": false,
     "start_time": "2025-07-22T16:28:33.575161",
     "status": "completed"
    },
    "tags": []
   },
   "outputs": [],
   "source": []
  }
 ],
 "metadata": {
  "accelerator": "GPU",
  "colab": {
   "gpuType": "T4",
   "provenance": []
  },
  "kaggle": {
   "accelerator": "nvidiaTeslaT4",
   "dataSources": [
    {
     "datasetId": 7919531,
     "sourceId": 12543867,
     "sourceType": "datasetVersion"
    },
    {
     "datasetId": 7920219,
     "sourceId": 12544798,
     "sourceType": "datasetVersion"
    },
    {
     "isSourceIdPinned": true,
     "modelId": 405990,
     "modelInstanceId": 386894,
     "sourceId": 484051,
     "sourceType": "modelInstanceVersion"
    }
   ],
   "dockerImageVersionId": 31090,
   "isGpuEnabled": true,
   "isInternetEnabled": true,
   "language": "python",
   "sourceType": "notebook"
  },
  "kernelspec": {
   "display_name": "Python 3",
   "language": "python",
   "name": "python3"
  },
  "language_info": {
   "codemirror_mode": {
    "name": "ipython",
    "version": 3
   },
   "file_extension": ".py",
   "mimetype": "text/x-python",
   "name": "python",
   "nbconvert_exporter": "python",
   "pygments_lexer": "ipython3",
   "version": "3.11.13"
  },
  "papermill": {
   "default_parameters": {},
   "duration": 11671.602028,
   "end_time": "2025-07-22T16:28:37.036764",
   "environment_variables": {},
   "exception": null,
   "input_path": "__notebook__.ipynb",
   "output_path": "__notebook__.ipynb",
   "parameters": {},
   "start_time": "2025-07-22T13:14:05.434736",
   "version": "2.6.0"
  },
  "widgets": {
   "application/vnd.jupyter.widget-state+json": {
    "state": {
     "0f0d8642ba1f4f2a86b8d7597af9e208": {
      "model_module": "@jupyter-widgets/base",
      "model_module_version": "2.0.0",
      "model_name": "LayoutModel",
      "state": {
       "_model_module": "@jupyter-widgets/base",
       "_model_module_version": "2.0.0",
       "_model_name": "LayoutModel",
       "_view_count": null,
       "_view_module": "@jupyter-widgets/base",
       "_view_module_version": "2.0.0",
       "_view_name": "LayoutView",
       "align_content": null,
       "align_items": null,
       "align_self": null,
       "border_bottom": null,
       "border_left": null,
       "border_right": null,
       "border_top": null,
       "bottom": null,
       "display": null,
       "flex": null,
       "flex_flow": null,
       "grid_area": null,
       "grid_auto_columns": null,
       "grid_auto_flow": null,
       "grid_auto_rows": null,
       "grid_column": null,
       "grid_gap": null,
       "grid_row": null,
       "grid_template_areas": null,
       "grid_template_columns": null,
       "grid_template_rows": null,
       "height": null,
       "justify_content": null,
       "justify_items": null,
       "left": null,
       "margin": null,
       "max_height": null,
       "max_width": null,
       "min_height": null,
       "min_width": null,
       "object_fit": null,
       "object_position": null,
       "order": null,
       "overflow": null,
       "padding": null,
       "right": null,
       "top": null,
       "visibility": null,
       "width": null
      }
     },
     "2195324b877648d5847b1c5eb90aa706": {
      "model_module": "@jupyter-widgets/base",
      "model_module_version": "2.0.0",
      "model_name": "LayoutModel",
      "state": {
       "_model_module": "@jupyter-widgets/base",
       "_model_module_version": "2.0.0",
       "_model_name": "LayoutModel",
       "_view_count": null,
       "_view_module": "@jupyter-widgets/base",
       "_view_module_version": "2.0.0",
       "_view_name": "LayoutView",
       "align_content": null,
       "align_items": null,
       "align_self": null,
       "border_bottom": null,
       "border_left": null,
       "border_right": null,
       "border_top": null,
       "bottom": null,
       "display": null,
       "flex": null,
       "flex_flow": null,
       "grid_area": null,
       "grid_auto_columns": null,
       "grid_auto_flow": null,
       "grid_auto_rows": null,
       "grid_column": null,
       "grid_gap": null,
       "grid_row": null,
       "grid_template_areas": null,
       "grid_template_columns": null,
       "grid_template_rows": null,
       "height": null,
       "justify_content": null,
       "justify_items": null,
       "left": null,
       "margin": null,
       "max_height": null,
       "max_width": null,
       "min_height": null,
       "min_width": null,
       "object_fit": null,
       "object_position": null,
       "order": null,
       "overflow": null,
       "padding": null,
       "right": null,
       "top": null,
       "visibility": null,
       "width": null
      }
     },
     "36bcc259b50d4f3f98c96bcfb222b146": {
      "model_module": "@jupyter-widgets/controls",
      "model_module_version": "2.0.0",
      "model_name": "HTMLStyleModel",
      "state": {
       "_model_module": "@jupyter-widgets/controls",
       "_model_module_version": "2.0.0",
       "_model_name": "HTMLStyleModel",
       "_view_count": null,
       "_view_module": "@jupyter-widgets/base",
       "_view_module_version": "2.0.0",
       "_view_name": "StyleView",
       "background": null,
       "description_width": "",
       "font_size": null,
       "text_color": null
      }
     },
     "47b7a63ec2fc4e5ebb362d50b0c1cc5c": {
      "model_module": "@jupyter-widgets/base",
      "model_module_version": "2.0.0",
      "model_name": "LayoutModel",
      "state": {
       "_model_module": "@jupyter-widgets/base",
       "_model_module_version": "2.0.0",
       "_model_name": "LayoutModel",
       "_view_count": null,
       "_view_module": "@jupyter-widgets/base",
       "_view_module_version": "2.0.0",
       "_view_name": "LayoutView",
       "align_content": null,
       "align_items": null,
       "align_self": null,
       "border_bottom": null,
       "border_left": null,
       "border_right": null,
       "border_top": null,
       "bottom": null,
       "display": null,
       "flex": null,
       "flex_flow": null,
       "grid_area": null,
       "grid_auto_columns": null,
       "grid_auto_flow": null,
       "grid_auto_rows": null,
       "grid_column": null,
       "grid_gap": null,
       "grid_row": null,
       "grid_template_areas": null,
       "grid_template_columns": null,
       "grid_template_rows": null,
       "height": null,
       "justify_content": null,
       "justify_items": null,
       "left": null,
       "margin": null,
       "max_height": null,
       "max_width": null,
       "min_height": null,
       "min_width": null,
       "object_fit": null,
       "object_position": null,
       "order": null,
       "overflow": null,
       "padding": null,
       "right": null,
       "top": null,
       "visibility": null,
       "width": null
      }
     },
     "8c583214123044209d1df7af1ef68538": {
      "model_module": "@jupyter-widgets/controls",
      "model_module_version": "2.0.0",
      "model_name": "HTMLStyleModel",
      "state": {
       "_model_module": "@jupyter-widgets/controls",
       "_model_module_version": "2.0.0",
       "_model_name": "HTMLStyleModel",
       "_view_count": null,
       "_view_module": "@jupyter-widgets/base",
       "_view_module_version": "2.0.0",
       "_view_name": "StyleView",
       "background": null,
       "description_width": "",
       "font_size": null,
       "text_color": null
      }
     },
     "91229579b7154ceab1e02f619c619b74": {
      "model_module": "@jupyter-widgets/controls",
      "model_module_version": "2.0.0",
      "model_name": "FloatProgressModel",
      "state": {
       "_dom_classes": [],
       "_model_module": "@jupyter-widgets/controls",
       "_model_module_version": "2.0.0",
       "_model_name": "FloatProgressModel",
       "_view_count": null,
       "_view_module": "@jupyter-widgets/controls",
       "_view_module_version": "2.0.0",
       "_view_name": "ProgressView",
       "bar_style": "success",
       "description": "",
       "description_allow_html": false,
       "layout": "IPY_MODEL_cb3716c17b1e46dabe5a99e13360756c",
       "max": 1.0,
       "min": 0.0,
       "orientation": "horizontal",
       "style": "IPY_MODEL_e65d65343f7d4a0dbcb6e828b3dbc79c",
       "tabbable": null,
       "tooltip": null,
       "value": 1.0
      }
     },
     "ba69c21356c14419baea7a9a9cb3f52b": {
      "model_module": "@jupyter-widgets/controls",
      "model_module_version": "2.0.0",
      "model_name": "HBoxModel",
      "state": {
       "_dom_classes": [],
       "_model_module": "@jupyter-widgets/controls",
       "_model_module_version": "2.0.0",
       "_model_name": "HBoxModel",
       "_view_count": null,
       "_view_module": "@jupyter-widgets/controls",
       "_view_module_version": "2.0.0",
       "_view_name": "HBoxView",
       "box_style": "",
       "children": [
        "IPY_MODEL_f232d859d7354dc7900d4c1f6bb900c2",
        "IPY_MODEL_91229579b7154ceab1e02f619c619b74",
        "IPY_MODEL_d5294f21fb8b4b009359e72abc8bf58e"
       ],
       "layout": "IPY_MODEL_0f0d8642ba1f4f2a86b8d7597af9e208",
       "tabbable": null,
       "tooltip": null
      }
     },
     "cb3716c17b1e46dabe5a99e13360756c": {
      "model_module": "@jupyter-widgets/base",
      "model_module_version": "2.0.0",
      "model_name": "LayoutModel",
      "state": {
       "_model_module": "@jupyter-widgets/base",
       "_model_module_version": "2.0.0",
       "_model_name": "LayoutModel",
       "_view_count": null,
       "_view_module": "@jupyter-widgets/base",
       "_view_module_version": "2.0.0",
       "_view_name": "LayoutView",
       "align_content": null,
       "align_items": null,
       "align_self": null,
       "border_bottom": null,
       "border_left": null,
       "border_right": null,
       "border_top": null,
       "bottom": null,
       "display": null,
       "flex": null,
       "flex_flow": null,
       "grid_area": null,
       "grid_auto_columns": null,
       "grid_auto_flow": null,
       "grid_auto_rows": null,
       "grid_column": null,
       "grid_gap": null,
       "grid_row": null,
       "grid_template_areas": null,
       "grid_template_columns": null,
       "grid_template_rows": null,
       "height": null,
       "justify_content": null,
       "justify_items": null,
       "left": null,
       "margin": null,
       "max_height": null,
       "max_width": null,
       "min_height": null,
       "min_width": null,
       "object_fit": null,
       "object_position": null,
       "order": null,
       "overflow": null,
       "padding": null,
       "right": null,
       "top": null,
       "visibility": null,
       "width": "20px"
      }
     },
     "d5294f21fb8b4b009359e72abc8bf58e": {
      "model_module": "@jupyter-widgets/controls",
      "model_module_version": "2.0.0",
      "model_name": "HTMLModel",
      "state": {
       "_dom_classes": [],
       "_model_module": "@jupyter-widgets/controls",
       "_model_module_version": "2.0.0",
       "_model_name": "HTMLModel",
       "_view_count": null,
       "_view_module": "@jupyter-widgets/controls",
       "_view_module_version": "2.0.0",
       "_view_name": "HTMLView",
       "description": "",
       "description_allow_html": false,
       "layout": "IPY_MODEL_2195324b877648d5847b1c5eb90aa706",
       "placeholder": "​",
       "style": "IPY_MODEL_36bcc259b50d4f3f98c96bcfb222b146",
       "tabbable": null,
       "tooltip": null,
       "value": " 8.15k/? [00:00&lt;00:00, 781kB/s]"
      }
     },
     "e65d65343f7d4a0dbcb6e828b3dbc79c": {
      "model_module": "@jupyter-widgets/controls",
      "model_module_version": "2.0.0",
      "model_name": "ProgressStyleModel",
      "state": {
       "_model_module": "@jupyter-widgets/controls",
       "_model_module_version": "2.0.0",
       "_model_name": "ProgressStyleModel",
       "_view_count": null,
       "_view_module": "@jupyter-widgets/base",
       "_view_module_version": "2.0.0",
       "_view_name": "StyleView",
       "bar_color": null,
       "description_width": ""
      }
     },
     "f232d859d7354dc7900d4c1f6bb900c2": {
      "model_module": "@jupyter-widgets/controls",
      "model_module_version": "2.0.0",
      "model_name": "HTMLModel",
      "state": {
       "_dom_classes": [],
       "_model_module": "@jupyter-widgets/controls",
       "_model_module_version": "2.0.0",
       "_model_name": "HTMLModel",
       "_view_count": null,
       "_view_module": "@jupyter-widgets/controls",
       "_view_module_version": "2.0.0",
       "_view_name": "HTMLView",
       "description": "",
       "description_allow_html": false,
       "layout": "IPY_MODEL_47b7a63ec2fc4e5ebb362d50b0c1cc5c",
       "placeholder": "​",
       "style": "IPY_MODEL_8c583214123044209d1df7af1ef68538",
       "tabbable": null,
       "tooltip": null,
       "value": "Downloading builder script: "
      }
     }
    },
    "version_major": 2,
    "version_minor": 0
   }
  }
 },
 "nbformat": 4,
 "nbformat_minor": 5
}
